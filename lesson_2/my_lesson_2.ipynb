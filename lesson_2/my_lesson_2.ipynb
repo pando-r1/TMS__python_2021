{
 "metadata": {
  "language_info": {
   "codemirror_mode": {
    "name": "ipython",
    "version": 3
   },
   "file_extension": ".py",
   "mimetype": "text/x-python",
   "name": "python",
   "nbconvert_exporter": "python",
   "pygments_lexer": "ipython3",
   "version": "3.9.0-final"
  },
  "orig_nbformat": 2,
  "kernelspec": {
   "name": "python3",
   "display_name": "Python 3.9.0 64-bit",
   "metadata": {
    "interpreter": {
     "hash": "54a8385e15627a799410bfee3e51efcf9d8e59db355f0f179937a5da165a712e"
    }
   }
  }
 },
 "nbformat": 4,
 "nbformat_minor": 2,
 "cells": [
  {
   "cell_type": "code",
   "execution_count": 1,
   "metadata": {},
   "outputs": [],
   "source": [
    "None"
   ]
  },
  {
   "cell_type": "code",
   "execution_count": 2,
   "metadata": {},
   "outputs": [
    {
     "output_type": "stream",
     "name": "stdout",
     "text": [
      "None\n"
     ]
    }
   ],
   "source": [
    "none_variable = None\n",
    "print(none_variable)"
   ]
  },
  {
   "cell_type": "code",
   "execution_count": 3,
   "metadata": {},
   "outputs": [
    {
     "output_type": "execute_result",
     "data": {
      "text/plain": [
       "NoneType"
      ]
     },
     "metadata": {},
     "execution_count": 3
    }
   ],
   "source": [
    "type(none_variable)"
   ]
  },
  {
   "cell_type": "code",
   "execution_count": 33,
   "metadata": {},
   "outputs": [
    {
     "output_type": "stream",
     "name": "stdout",
     "text": [
      "4\n0\n6\n--------------------\n3.0\n1.8\n1\n--------------------\n4\n-5\n5\n--------------------\n(2, 1)\n25\n25\n1\n"
     ]
    }
   ],
   "source": [
    "print(2 + 2)\n",
    "print(2 - 2)\n",
    "print(2 * 3)\n",
    "print('--------------------')\n",
    "print(6 / 2)\n",
    "print(9 / 5)\n",
    "print(9 // 5)\n",
    "print('--------------------')\n",
    "print(9 % 5)\n",
    "print(-5)\n",
    "print(abs(-5))\n",
    "print('--------------------')\n",
    "print(divmod(5,2))\n",
    "print(5**2)\n",
    "print(pow(5,2))\n",
    "print(pow(5,2,4))"
   ]
  },
  {
   "cell_type": "code",
   "execution_count": 34,
   "metadata": {},
   "outputs": [],
   "source": [
    "a = 3\n",
    "b = 508\n",
    "c = 2\n",
    "d = -6\n",
    "result = None"
   ]
  },
  {
   "cell_type": "code",
   "execution_count": 36,
   "metadata": {},
   "outputs": [
    {
     "output_type": "stream",
     "name": "stdout",
     "text": [
      "<class 'int'>\n<class 'int'>\n<class 'int'>\n<class 'int'>\n"
     ]
    }
   ],
   "source": [
    "print(type(a))\n",
    "print(type(b))\n",
    "print(type(c))\n",
    "print(type(d))"
   ]
  },
  {
   "cell_type": "code",
   "execution_count": 37,
   "metadata": {},
   "outputs": [
    {
     "output_type": "stream",
     "name": "stdout",
     "text": [
      "None\n"
     ]
    }
   ],
   "source": [
    "print(result)"
   ]
  },
  {
   "cell_type": "code",
   "execution_count": 38,
   "metadata": {},
   "outputs": [
    {
     "output_type": "stream",
     "name": "stdout",
     "text": [
      "511\n"
     ]
    }
   ],
   "source": [
    "result = a + b\n",
    "print(result)"
   ]
  },
  {
   "cell_type": "code",
   "execution_count": 39,
   "metadata": {},
   "outputs": [
    {
     "output_type": "stream",
     "name": "stdout",
     "text": [
      "5\n"
     ]
    }
   ],
   "source": [
    "result = a + c\n",
    "print(result)"
   ]
  },
  {
   "cell_type": "code",
   "execution_count": 41,
   "metadata": {},
   "outputs": [
    {
     "output_type": "stream",
     "name": "stdout",
     "text": [
      "1524\n"
     ]
    }
   ],
   "source": [
    "result = a * b\n",
    "print(result)"
   ]
  },
  {
   "cell_type": "code",
   "execution_count": 42,
   "metadata": {},
   "outputs": [
    {
     "output_type": "stream",
     "name": "stdout",
     "text": [
      "0.005905511811023622\n"
     ]
    }
   ],
   "source": [
    "result = a / b\n",
    "print(result)"
   ]
  },
  {
   "cell_type": "code",
   "execution_count": 43,
   "metadata": {},
   "outputs": [
    {
     "output_type": "stream",
     "name": "stdout",
     "text": [
      "0.0059\n"
     ]
    }
   ],
   "source": [
    "result = round(result, 4)\n",
    "print(result)"
   ]
  },
  {
   "cell_type": "code",
   "execution_count": 44,
   "metadata": {},
   "outputs": [
    {
     "output_type": "execute_result",
     "data": {
      "text/plain": [
       "-4"
      ]
     },
     "metadata": {},
     "execution_count": 44
    }
   ],
   "source": [
    "round(3.5)\n",
    "round(-3.5)"
   ]
  },
  {
   "cell_type": "code",
   "execution_count": 45,
   "metadata": {},
   "outputs": [
    {
     "output_type": "stream",
     "name": "stdout",
     "text": [
      "254\n"
     ]
    }
   ],
   "source": [
    "result = b//c\n",
    "print(result)"
   ]
  },
  {
   "cell_type": "code",
   "execution_count": 48,
   "metadata": {},
   "outputs": [
    {
     "output_type": "stream",
     "name": "stdout",
     "text": [
      "1\n"
     ]
    }
   ],
   "source": [
    "result = a%c\n",
    "print(result)"
   ]
  },
  {
   "cell_type": "code",
   "execution_count": 49,
   "metadata": {},
   "outputs": [
    {
     "output_type": "execute_result",
     "data": {
      "text/plain": [
       "0"
      ]
     },
     "metadata": {},
     "execution_count": 49
    }
   ],
   "source": [
    "98%7"
   ]
  },
  {
   "cell_type": "code",
   "execution_count": 50,
   "metadata": {},
   "outputs": [
    {
     "output_type": "stream",
     "name": "stdout",
     "text": [
      "-3\n"
     ]
    }
   ],
   "source": [
    "result = -a\n",
    "print(result)"
   ]
  },
  {
   "cell_type": "code",
   "execution_count": 51,
   "metadata": {},
   "outputs": [
    {
     "output_type": "stream",
     "name": "stdout",
     "text": [
      "6\n"
     ]
    }
   ],
   "source": [
    "result = abs(d)\n",
    "print(result)"
   ]
  },
  {
   "cell_type": "code",
   "execution_count": 57,
   "metadata": {},
   "outputs": [
    {
     "output_type": "stream",
     "name": "stdout",
     "text": [
      "238559874472702655622889737308883716733351429155596648767710341097561317856981938271826412713407769807284967028328223697594487766683122726964173339243563451142722841157128388676272374350708300470630165428002991069034463020481307197472499216561\n"
     ]
    }
   ],
   "source": [
    "results  = pow(a,b)\n",
    "print(results)"
   ]
  },
  {
   "cell_type": "code",
   "execution_count": 59,
   "metadata": {},
   "outputs": [
    {
     "output_type": "execute_result",
     "data": {
      "text/plain": [
       "806"
      ]
     },
     "metadata": {},
     "execution_count": 59
    }
   ],
   "source": [
    "results.bit_length()"
   ]
  },
  {
   "cell_type": "code",
   "execution_count": 60,
   "metadata": {},
   "outputs": [
    {
     "output_type": "execute_result",
     "data": {
      "text/plain": [
       "243"
      ]
     },
     "metadata": {},
     "execution_count": 60
    }
   ],
   "source": [
    "len(str(results))"
   ]
  },
  {
   "cell_type": "code",
   "execution_count": 62,
   "metadata": {},
   "outputs": [
    {
     "output_type": "execute_result",
     "data": {
      "text/plain": [
       "9"
      ]
     },
     "metadata": {},
     "execution_count": 62
    }
   ],
   "source": [
    "b.bit_length()"
   ]
  },
  {
   "cell_type": "code",
   "execution_count": 64,
   "metadata": {},
   "outputs": [],
   "source": [
    "a = \"123\"\n",
    "b = \"123.555\"\n",
    "c = 3456.7\n"
   ]
  },
  {
   "cell_type": "code",
   "execution_count": 66,
   "metadata": {},
   "outputs": [
    {
     "output_type": "stream",
     "name": "stdout",
     "text": [
      "<class 'str'>\n<class 'str'>\n<class 'float'>\n"
     ]
    }
   ],
   "source": [
    "print(type(a))\n",
    "print(type(b))\n",
    "print(type(c))"
   ]
  },
  {
   "cell_type": "code",
   "execution_count": 68,
   "metadata": {},
   "outputs": [
    {
     "output_type": "stream",
     "name": "stdout",
     "text": [
      "123\n"
     ]
    }
   ],
   "source": [
    "result = int(a)\n",
    "print(result)"
   ]
  },
  {
   "cell_type": "code",
   "execution_count": 69,
   "metadata": {},
   "outputs": [
    {
     "output_type": "error",
     "ename": "ValueError",
     "evalue": "invalid literal for int() with base 10: '123.555'",
     "traceback": [
      "\u001b[1;31m---------------------------------------------------------------------------\u001b[0m",
      "\u001b[1;31mValueError\u001b[0m                                Traceback (most recent call last)",
      "\u001b[1;32m<ipython-input-69-6cfad4fbcbc5>\u001b[0m in \u001b[0;36m<module>\u001b[1;34m\u001b[0m\n\u001b[1;32m----> 1\u001b[1;33m \u001b[0mresult\u001b[0m \u001b[1;33m=\u001b[0m \u001b[0mint\u001b[0m\u001b[1;33m(\u001b[0m\u001b[0mb\u001b[0m\u001b[1;33m)\u001b[0m\u001b[1;33m\u001b[0m\u001b[1;33m\u001b[0m\u001b[0m\n\u001b[0m\u001b[0;32m      2\u001b[0m \u001b[0mprint\u001b[0m\u001b[1;33m(\u001b[0m\u001b[0mresult\u001b[0m\u001b[1;33m)\u001b[0m\u001b[1;33m\u001b[0m\u001b[1;33m\u001b[0m\u001b[0m\n",
      "\u001b[1;31mValueError\u001b[0m: invalid literal for int() with base 10: '123.555'"
     ]
    }
   ],
   "source": [
    "result = int(b)\n",
    "print(result)"
   ]
  },
  {
   "cell_type": "code",
   "execution_count": null,
   "metadata": {},
   "outputs": [],
   "source": []
  },
  {
   "cell_type": "code",
   "execution_count": 70,
   "metadata": {},
   "outputs": [
    {
     "output_type": "stream",
     "name": "stdout",
     "text": [
      "3456\n"
     ]
    }
   ],
   "source": [
    "result = int(c)\n",
    "print(result)"
   ]
  },
  {
   "cell_type": "code",
   "execution_count": 71,
   "metadata": {},
   "outputs": [
    {
     "output_type": "execute_result",
     "data": {
      "text/plain": [
       "123.0"
      ]
     },
     "metadata": {},
     "execution_count": 71
    }
   ],
   "source": [
    "float(a)"
   ]
  },
  {
   "cell_type": "code",
   "execution_count": 2,
   "metadata": {},
   "outputs": [],
   "source": [
    "a = 12345\n"
   ]
  },
  {
   "cell_type": "code",
   "execution_count": 3,
   "metadata": {},
   "outputs": [
    {
     "output_type": "stream",
     "name": "stdout",
     "text": [
      "0o30071\n"
     ]
    }
   ],
   "source": [
    "result = oct(a)\n",
    "print(result)"
   ]
  },
  {
   "cell_type": "code",
   "execution_count": 4,
   "metadata": {},
   "outputs": [
    {
     "output_type": "stream",
     "name": "stdout",
     "text": [
      "0x3039\n"
     ]
    }
   ],
   "source": [
    "result = hex(a)\n",
    "print(result)"
   ]
  },
  {
   "cell_type": "code",
   "execution_count": 5,
   "metadata": {},
   "outputs": [
    {
     "output_type": "stream",
     "name": "stdout",
     "text": [
      "41\n"
     ]
    }
   ],
   "source": [
    "result = int(\"101001\", 2)\n",
    "print(result)"
   ]
  },
  {
   "cell_type": "code",
   "execution_count": 8,
   "metadata": {},
   "outputs": [
    {
     "output_type": "stream",
     "name": "stdout",
     "text": [
      "41\n"
     ]
    }
   ],
   "source": [
    "result = int(\"0b101001\", 2)\n",
    "print(result)"
   ]
  },
  {
   "cell_type": "code",
   "execution_count": 9,
   "metadata": {},
   "outputs": [
    {
     "output_type": "stream",
     "name": "stdout",
     "text": [
      "20339\n"
     ]
    }
   ],
   "source": [
    "result = int(\"47563\", 8)\n",
    "print(result)"
   ]
  },
  {
   "cell_type": "code",
   "execution_count": 13,
   "metadata": {},
   "outputs": [
    {
     "output_type": "stream",
     "name": "stdout",
     "text": [
      "20339\n"
     ]
    }
   ],
   "source": [
    "result = int(\"0o47563\", 8)\n",
    "print(result)"
   ]
  },
  {
   "cell_type": "code",
   "execution_count": 16,
   "metadata": {},
   "outputs": [
    {
     "output_type": "stream",
     "name": "stdout",
     "text": [
      "1047622\n"
     ]
    }
   ],
   "source": [
    "result = int(\"0xffc46\", 16)\n",
    "print(result)"
   ]
  },
  {
   "cell_type": "code",
   "execution_count": 19,
   "metadata": {},
   "outputs": [
    {
     "output_type": "stream",
     "name": "stdout",
     "text": [
      "1047622\n"
     ]
    }
   ],
   "source": [
    "result = int('ffc46', 16)\n",
    "print(result)"
   ]
  },
  {
   "cell_type": "code",
   "execution_count": 20,
   "metadata": {},
   "outputs": [
    {
     "output_type": "error",
     "ename": "SyntaxError",
     "evalue": "invalid syntax (<ipython-input-20-a690869a5090>, line 1)",
     "traceback": [
      "\u001b[1;36m  File \u001b[1;32m\"<ipython-input-20-a690869a5090>\"\u001b[1;36m, line \u001b[1;32m1\u001b[0m\n\u001b[1;33m    Вещественные числа (float)\u001b[0m\n\u001b[1;37m                 ^\u001b[0m\n\u001b[1;31mSyntaxError\u001b[0m\u001b[1;31m:\u001b[0m invalid syntax\n"
     ]
    }
   ],
   "source": [
    "Вещественные числа (float)\n",
    "Вещественные числа поддерживают те же операции, что и целые. Однако (из-за представления чисел в компьютере) вещественные числа неточны, и это может привести к ошибкам:"
   ]
  },
  {
   "cell_type": "code",
   "execution_count": 21,
   "metadata": {},
   "outputs": [],
   "source": [
    "a = 0.10000\n",
    "b = 375.8585858585\n",
    "c = -755.0"
   ]
  },
  {
   "cell_type": "code",
   "execution_count": 22,
   "metadata": {},
   "outputs": [
    {
     "output_type": "stream",
     "name": "stdout",
     "text": [
      "<class 'float'>\n<class 'float'>\n<class 'float'>\n"
     ]
    }
   ],
   "source": [
    "print(type(a))\n",
    "print(type(b))\n",
    "print(type(c))"
   ]
  },
  {
   "cell_type": "code",
   "execution_count": 29,
   "metadata": {},
   "outputs": [
    {
     "output_type": "stream",
     "name": "stdout",
     "text": [
      "0.9999999999999999\n"
     ]
    }
   ],
   "source": [
    "result = a + a + a + a + a + a + a + a + a + a\n",
    "print(result)"
   ]
  },
  {
   "cell_type": "code",
   "execution_count": 27,
   "metadata": {},
   "outputs": [
    {
     "output_type": "execute_result",
     "data": {
      "text/plain": [
       "1.0"
      ]
     },
     "metadata": {},
     "execution_count": 27
    }
   ],
   "source": [
    "a*10"
   ]
  },
  {
   "cell_type": "code",
   "execution_count": 30,
   "metadata": {},
   "outputs": [
    {
     "output_type": "stream",
     "name": "stdout",
     "text": [
      "3.180149540863655e+257\n"
     ]
    }
   ],
   "source": [
    "result = b ** 100\n",
    "print(result)"
   ]
  },
  {
   "cell_type": "code",
   "execution_count": 31,
   "metadata": {},
   "outputs": [
    {
     "output_type": "error",
     "ename": "OverflowError",
     "evalue": "(34, 'Result too large')",
     "traceback": [
      "\u001b[1;31m---------------------------------------------------------------------------\u001b[0m",
      "\u001b[1;31mOverflowError\u001b[0m                             Traceback (most recent call last)",
      "\u001b[1;32m<ipython-input-31-976be66ec49b>\u001b[0m in \u001b[0;36m<module>\u001b[1;34m\u001b[0m\n\u001b[1;32m----> 1\u001b[1;33m \u001b[0mresult\u001b[0m \u001b[1;33m=\u001b[0m \u001b[0mb\u001b[0m \u001b[1;33m**\u001b[0m \u001b[1;36m1000\u001b[0m\u001b[1;33m\u001b[0m\u001b[1;33m\u001b[0m\u001b[0m\n\u001b[0m\u001b[0;32m      2\u001b[0m \u001b[0mprint\u001b[0m\u001b[1;33m(\u001b[0m\u001b[0mresult\u001b[0m\u001b[1;33m)\u001b[0m\u001b[1;33m\u001b[0m\u001b[1;33m\u001b[0m\u001b[0m\n",
      "\u001b[1;31mOverflowError\u001b[0m: (34, 'Result too large')"
     ]
    }
   ],
   "source": [
    "result = b ** 1000\n",
    "print(result)"
   ]
  },
  {
   "cell_type": "code",
   "execution_count": 32,
   "metadata": {},
   "outputs": [],
   "source": [
    "f = 500"
   ]
  },
  {
   "cell_type": "code",
   "execution_count": 33,
   "metadata": {},
   "outputs": [
    {
     "output_type": "execute_result",
     "data": {
      "text/plain": [
       "93326361850321887899008954472381716961709144637170802462171433979596691097577563445444032709788110235959498993032424262421548752135403239484152081720393075623441066613832515027399507598590183151110049079626511311824051251479593379080517827112541510381069837885442648111946981422866095922201766291044279845616944888714746652800632836845264742926182986216520279319528949360711785066366874106543980553071813632059984482604195410121322962986950219451460990421460866836124479295203482686461765792691604742006593638904173789582211836507804555662844427392538751712785479678155634640371487768176689985539206926543942400871197367470174986262669074729676253580392937623383398104692787455860525369644165039062500000000000000000000000000000000000000000000000000000000000000000000000000000000000000000000000000000000000000000000000000000000000000000000000000000000000000000000000000000000000000000000000000000000000000000000000000000000000000000000000000000000000000000000000000000000000000000000000000000000000000000000000000000000000000000000000000000000000000000000000000000000000000000000000000000000000000000000000000000000000000000000000000000000000000000000000000000000000000000000000000000000000000000000000000000000000000000000000000000000000000000000000000000000000000000000000000000000000000000000000000000000000000000000000000000000000000000000000000000000000000000000000000000000000000000000000000000000000000000000000000000000000000000000000000000000000000000000000000000000000000000000000000000000000000000000000000000000000000000000000000000000000000000000000000000000000000000000000000000000000000000000000000000000000000000000000000000000000000000000000000000000000000000000000000000000000000000000000000000000000000000000000000000000000000000000000000000000000000000000000000000000000000000000000000000000000000000000000000000000000000000000000000000000000000000000000000000000000000000000000000000000000000000000000000000000000000000000000000000000000000000000000000000000000000000000000000000000000000000000000000000000000000000000000000000000000000000000000000000000000000000000000000000000000000000000000000000000000000000000000000000000000000000000000000000000000000000000000000000000000000000000000000000000000000000000000000000000000000000000000000000000000000000000000000000000000000000000000000000000000000000000000000000000000000000000000000000000000000000000000000000000000000000000000000000000000000000000000000000000000000000000000000000000000000000000000000000000000000000000000000000000000000000000000000000000000000000000000000000000000000000000000000000000000000000000000000000000000000000000000000000000000000000000000000000000000000000000000000000000000000000000000000000000"
      ]
     },
     "metadata": {},
     "execution_count": 33
    }
   ],
   "source": [
    "f**1000"
   ]
  },
  {
   "cell_type": "code",
   "execution_count": 34,
   "metadata": {},
   "outputs": [
    {
     "output_type": "error",
     "ename": "SyntaxError",
     "evalue": "invalid syntax (<ipython-input-34-db249c4a41df>, line 1)",
     "traceback": [
      "\u001b[1;36m  File \u001b[1;32m\"<ipython-input-34-db249c4a41df>\"\u001b[1;36m, line \u001b[1;32m1\u001b[0m\n\u001b[1;33m    Комплексные числа (complex)\u001b[0m\n\u001b[1;37m                ^\u001b[0m\n\u001b[1;31mSyntaxError\u001b[0m\u001b[1;31m:\u001b[0m invalid syntax\n"
     ]
    }
   ],
   "source": [
    "Комплексные числа (complex)"
   ]
  },
  {
   "cell_type": "code",
   "execution_count": 35,
   "metadata": {},
   "outputs": [],
   "source": [
    "a = complex(1, 2)\n",
    "b = complex(4, 3)\n",
    "c = complex(-3, 4)"
   ]
  },
  {
   "cell_type": "code",
   "execution_count": 36,
   "metadata": {},
   "outputs": [
    {
     "output_type": "stream",
     "name": "stdout",
     "text": [
      "<class 'complex'>\n<class 'complex'>\n<class 'complex'>\n"
     ]
    }
   ],
   "source": [
    "print(type(a))\n",
    "print(type(b))\n",
    "print(type(c))"
   ]
  },
  {
   "cell_type": "code",
   "execution_count": 37,
   "metadata": {},
   "outputs": [
    {
     "output_type": "stream",
     "name": "stdout",
     "text": [
      "(1+2j) (4+3j) (-3+4j)\n1.0\n2.0\n"
     ]
    }
   ],
   "source": [
    "print(a, b, c)\n",
    "print(a.real)\n",
    "print(a.imag)"
   ]
  },
  {
   "cell_type": "code",
   "execution_count": 38,
   "metadata": {},
   "outputs": [
    {
     "output_type": "stream",
     "name": "stdout",
     "text": [
      "(5+5j)\n"
     ]
    }
   ],
   "source": [
    "result = a + b\n",
    "print(result)"
   ]
  },
  {
   "cell_type": "code",
   "execution_count": 39,
   "metadata": {},
   "outputs": [
    {
     "output_type": "stream",
     "name": "stdout",
     "text": [
      "(-24+7j)\n"
     ]
    }
   ],
   "source": [
    "result = b * c\n",
    "print(result)"
   ]
  },
  {
   "cell_type": "code",
   "execution_count": 40,
   "metadata": {},
   "outputs": [
    {
     "output_type": "stream",
     "name": "stdout",
     "text": [
      "(0.03937155597696145-0.044819019048752747j)\n"
     ]
    }
   ],
   "source": [
    "result = c ** a\n",
    "print(result)"
   ]
  },
  {
   "source": [
    "a = 3\n",
    "c = 4\n",
    "res = (a == c)\n",
    "print(res)\n",
    "a = c\n",
    "print(a == c)"
   ],
   "cell_type": "code",
   "metadata": {},
   "execution_count": 57,
   "outputs": [
    {
     "output_type": "stream",
     "name": "stdout",
     "text": [
      "False\nTrue\n"
     ]
    }
   ]
  },
  {
   "cell_type": "code",
   "execution_count": 58,
   "metadata": {},
   "outputs": [
    {
     "output_type": "execute_result",
     "data": {
      "text/plain": [
       "4"
      ]
     },
     "metadata": {},
     "execution_count": 58
    }
   ],
   "source": [
    "c = 4\n",
    "a"
   ]
  },
  {
   "cell_type": "code",
   "execution_count": 59,
   "metadata": {},
   "outputs": [],
   "source": [
    "a = 0"
   ]
  },
  {
   "cell_type": "code",
   "execution_count": 68,
   "metadata": {},
   "outputs": [],
   "source": [
    "a = a + 1"
   ]
  },
  {
   "cell_type": "code",
   "execution_count": 66,
   "metadata": {},
   "outputs": [],
   "source": [
    "a += 1"
   ]
  },
  {
   "cell_type": "code",
   "execution_count": 69,
   "metadata": {},
   "outputs": [
    {
     "output_type": "stream",
     "name": "stdout",
     "text": [
      "7\n"
     ]
    }
   ],
   "source": [
    "print(a)"
   ]
  },
  {
   "cell_type": "code",
   "execution_count": 70,
   "metadata": {},
   "outputs": [],
   "source": [
    "a **= 2"
   ]
  },
  {
   "cell_type": "code",
   "execution_count": 71,
   "metadata": {},
   "outputs": [],
   "source": [
    "a = True"
   ]
  },
  {
   "cell_type": "code",
   "execution_count": 72,
   "metadata": {},
   "outputs": [
    {
     "output_type": "execute_result",
     "data": {
      "text/plain": [
       "bool"
      ]
     },
     "metadata": {},
     "execution_count": 72
    }
   ],
   "source": [
    "type(a)"
   ]
  },
  {
   "cell_type": "code",
   "execution_count": 73,
   "metadata": {},
   "outputs": [
    {
     "output_type": "stream",
     "name": "stdout",
     "text": [
      "False\n"
     ]
    }
   ],
   "source": [
    "res = bool(0)\n",
    "print(res)"
   ]
  },
  {
   "cell_type": "code",
   "execution_count": 74,
   "metadata": {},
   "outputs": [
    {
     "output_type": "stream",
     "name": "stdout",
     "text": [
      "True\n"
     ]
    }
   ],
   "source": [
    "res = bool(1)\n",
    "print(res)"
   ]
  },
  {
   "cell_type": "code",
   "execution_count": 75,
   "metadata": {},
   "outputs": [
    {
     "output_type": "stream",
     "name": "stdout",
     "text": [
      "True\n"
     ]
    }
   ],
   "source": [
    "res = bool(3)\n",
    "print(res)"
   ]
  },
  {
   "cell_type": "code",
   "execution_count": 76,
   "metadata": {},
   "outputs": [
    {
     "output_type": "execute_result",
     "data": {
      "text/plain": [
       "1"
      ]
     },
     "metadata": {},
     "execution_count": 76
    }
   ],
   "source": [
    "int(res)"
   ]
  },
  {
   "cell_type": "code",
   "execution_count": 77,
   "metadata": {},
   "outputs": [
    {
     "output_type": "stream",
     "name": "stdout",
     "text": [
      "True\n"
     ]
    }
   ],
   "source": [
    "res = bool(-1)\n",
    "print(res)"
   ]
  },
  {
   "cell_type": "code",
   "execution_count": 79,
   "metadata": {},
   "outputs": [
    {
     "output_type": "stream",
     "name": "stdout",
     "text": [
      "True\n"
     ]
    }
   ],
   "source": [
    "res = bool(\"hfhf\")\n",
    "print(res)"
   ]
  },
  {
   "cell_type": "code",
   "execution_count": 86,
   "metadata": {},
   "outputs": [
    {
     "output_type": "stream",
     "name": "stdout",
     "text": [
      "False\n"
     ]
    }
   ],
   "source": [
    "res = bool(\"\")\n",
    "print(res)"
   ]
  },
  {
   "cell_type": "code",
   "execution_count": 88,
   "metadata": {},
   "outputs": [
    {
     "output_type": "stream",
     "name": "stdout",
     "text": [
      "True\n"
     ]
    }
   ],
   "source": [
    "a = False\n",
    "print(not a)"
   ]
  },
  {
   "cell_type": "code",
   "execution_count": 89,
   "metadata": {},
   "outputs": [
    {
     "output_type": "stream",
     "name": "stdout",
     "text": [
      "True\n"
     ]
    }
   ],
   "source": [
    "a = not a\n",
    "print(a)"
   ]
  },
  {
   "cell_type": "code",
   "execution_count": 90,
   "metadata": {},
   "outputs": [
    {
     "output_type": "stream",
     "name": "stdout",
     "text": [
      "1\n"
     ]
    }
   ],
   "source": [
    "a = \"asdfkhasdf\"\n",
    "print(int(not not a))"
   ]
  },
  {
   "cell_type": "code",
   "execution_count": 91,
   "metadata": {},
   "outputs": [
    {
     "output_type": "execute_result",
     "data": {
      "text/plain": [
       "False"
      ]
     },
     "metadata": {},
     "execution_count": 91
    }
   ],
   "source": [
    "True == False"
   ]
  },
  {
   "cell_type": "code",
   "execution_count": 92,
   "metadata": {},
   "outputs": [
    {
     "output_type": "execute_result",
     "data": {
      "text/plain": [
       "True"
      ]
     },
     "metadata": {},
     "execution_count": 92
    }
   ],
   "source": [
    "True == True"
   ]
  },
  {
   "cell_type": "code",
   "execution_count": 114,
   "metadata": {},
   "outputs": [],
   "source": [
    "a = \"String\"\n",
    "b = 'String'\n",
    "c = \"\"\"String\"\"\"\n",
    "d = '''String'''"
   ]
  },
  {
   "cell_type": "code",
   "execution_count": 94,
   "metadata": {},
   "outputs": [
    {
     "output_type": "stream",
     "name": "stdout",
     "text": [
      "<class 'str'>\n<class 'str'>\n<class 'str'>\n<class 'str'>\n"
     ]
    }
   ],
   "source": [
    "print(type(a))\n",
    "print(type(b))\n",
    "print(type(c))\n",
    "print(type(d))"
   ]
  },
  {
   "cell_type": "code",
   "execution_count": 95,
   "metadata": {},
   "outputs": [
    {
     "output_type": "error",
     "ename": "TypeError",
     "evalue": "can only concatenate str (not \"int\") to str",
     "traceback": [
      "\u001b[1;31m---------------------------------------------------------------------------\u001b[0m",
      "\u001b[1;31mTypeError\u001b[0m                                 Traceback (most recent call last)",
      "\u001b[1;32m<ipython-input-95-0b0894033e29>\u001b[0m in \u001b[0;36m<module>\u001b[1;34m\u001b[0m\n\u001b[1;32m----> 1\u001b[1;33m \u001b[1;34m\"aty\"\u001b[0m\u001b[1;33m+\u001b[0m\u001b[1;36m3\u001b[0m\u001b[1;33m\u001b[0m\u001b[1;33m\u001b[0m\u001b[0m\n\u001b[0m",
      "\u001b[1;31mTypeError\u001b[0m: can only concatenate str (not \"int\") to str"
     ]
    }
   ],
   "source": [
    "\"aty\"+3"
   ]
  },
  {
   "cell_type": "code",
   "execution_count": 96,
   "metadata": {},
   "outputs": [],
   "source": [
    "f = (\n",
    "    \"ssdfgsdf'gsdffgt\"\n",
    "    'sdfgsdfgs\"dfgsdfgr'\n",
    ")"
   ]
  },
  {
   "cell_type": "code",
   "execution_count": 98,
   "metadata": {},
   "outputs": [
    {
     "output_type": "execute_result",
     "data": {
      "text/plain": [
       "'ssdfgsdf\\'gsdffgtsdfgsdfgs\"dfgsdfgr'"
      ]
     },
     "metadata": {},
     "execution_count": 98
    }
   ],
   "source": [
    "f"
   ]
  },
  {
   "cell_type": "code",
   "execution_count": 99,
   "metadata": {},
   "outputs": [
    {
     "output_type": "stream",
     "name": "stdout",
     "text": [
      "ssdfgsdf'gsdffgtsdfgsdfgs\"dfgsdfgr\n"
     ]
    }
   ],
   "source": [
    "print(f)"
   ]
  },
  {
   "cell_type": "code",
   "execution_count": 100,
   "metadata": {},
   "outputs": [],
   "source": [
    "s = 'dkasdf\"\"\"\"\"\"\"kasdf;alkdsf'"
   ]
  },
  {
   "cell_type": "code",
   "execution_count": 102,
   "metadata": {},
   "outputs": [
    {
     "output_type": "execute_result",
     "data": {
      "text/plain": [
       "'dkasdf\"\"\"\"\"\"\"kasdf;alkdsf'"
      ]
     },
     "metadata": {},
     "execution_count": 102
    }
   ],
   "source": [
    "s"
   ]
  },
  {
   "cell_type": "code",
   "execution_count": 103,
   "metadata": {},
   "outputs": [],
   "source": [
    "s = '''\n",
    "asd;flkhasdf' ;asdkfj\"ASD;KFJ\"\n",
    "\n",
    "\n",
    "adlsk12\n",
    "\n",
    "\n",
    "ssss\n",
    "'''"
   ]
  },
  {
   "cell_type": "code",
   "execution_count": 104,
   "metadata": {},
   "outputs": [
    {
     "output_type": "stream",
     "name": "stdout",
     "text": [
      "\nasd;flkhasdf' ;asdkfj\"ASD;KFJ\"\n\n\nadlskfkjhaslkdkfh\n\n\nasdf\n\n"
     ]
    }
   ],
   "source": [
    "print(s)"
   ]
  },
  {
   "cell_type": "code",
   "execution_count": 105,
   "metadata": {},
   "outputs": [
    {
     "output_type": "execute_result",
     "data": {
      "text/plain": [
       "'\\nasd;flkhasdf\\' ;asdkfj\"ASD;KFJ\"\\n\\n\\nadlskfkjhaslkdkfh\\n\\n\\nasdf\\n'"
      ]
     },
     "metadata": {},
     "execution_count": 105
    }
   ],
   "source": [
    "s\n"
   ]
  },
  {
   "cell_type": "code",
   "execution_count": 106,
   "metadata": {},
   "outputs": [
    {
     "output_type": "stream",
     "name": "stdout",
     "text": [
      "dsl\n;faksdjf\ttasdf\n\n!\n"
     ]
    }
   ],
   "source": [
    "ss = \"dsl\\n;faksdjf\\ttasdf\\n\\n!\"\n",
    "print(ss)"
   ]
  },
  {
   "cell_type": "code",
   "execution_count": 107,
   "metadata": {},
   "outputs": [
    {
     "output_type": "execute_result",
     "data": {
      "text/plain": [
       "'ADSSFJHAKSJDLAS'"
      ]
     },
     "metadata": {},
     "execution_count": 107
    }
   ],
   "source": [
    "\"\"\"ADSSFJHAKSJDLAS\"\"\""
   ]
  },
  {
   "cell_type": "code",
   "execution_count": 108,
   "metadata": {},
   "outputs": [],
   "source": [
    "a = \"r\""
   ]
  },
  {
   "cell_type": "code",
   "execution_count": 109,
   "metadata": {},
   "outputs": [
    {
     "output_type": "execute_result",
     "data": {
      "text/plain": [
       "'r4'"
      ]
     },
     "metadata": {},
     "execution_count": 109
    }
   ],
   "source": [
    "a + \"4\""
   ]
  },
  {
   "cell_type": "code",
   "execution_count": 110,
   "metadata": {},
   "outputs": [],
   "source": [
    "a = \"String\""
   ]
  },
  {
   "cell_type": "code",
   "execution_count": 112,
   "metadata": {},
   "outputs": [
    {
     "output_type": "execute_result",
     "data": {
      "text/plain": [
       "'t'"
      ]
     },
     "metadata": {},
     "execution_count": 112
    }
   ],
   "source": [
    "a[1]"
   ]
  },
  {
   "cell_type": "code",
   "execution_count": 115,
   "metadata": {},
   "outputs": [
    {
     "output_type": "stream",
     "name": "stdout",
     "text": [
      "String ssdfgsdf'gsdffgtsdfgsdfgs\"dfgsdfgr String\n"
     ]
    }
   ],
   "source": [
    "print(a, f, c)"
   ]
  },
  {
   "cell_type": "code",
   "execution_count": 116,
   "metadata": {},
   "outputs": [
    {
     "output_type": "stream",
     "name": "stdout",
     "text": [
      "stringysecond\tsrt"
     ]
    }
   ],
   "source": [
    "print(\"string\", \"second\", end=\"\\t\", sep=\"y\")\n",
    "print(\"srt\", end=\"\")"
   ]
  },
  {
   "cell_type": "code",
   "execution_count": 127,
   "metadata": {},
   "outputs": [
    {
     "output_type": "stream",
     "name": "stdout",
     "text": [
      "S|t|r|i|n|g|"
     ]
    }
   ],
   "source": [
    "for char in a:\n",
    "    print(char, end=\"|\")"
   ]
  },
  {
   "cell_type": "code",
   "execution_count": 128,
   "metadata": {},
   "outputs": [
    {
     "output_type": "execute_result",
     "data": {
      "text/plain": [
       "6"
      ]
     },
     "metadata": {},
     "execution_count": 128
    }
   ],
   "source": [
    "len(a)"
   ]
  },
  {
   "cell_type": "code",
   "execution_count": 129,
   "metadata": {},
   "outputs": [
    {
     "output_type": "execute_result",
     "data": {
      "text/plain": [
       "6"
      ]
     },
     "metadata": {},
     "execution_count": 129
    }
   ],
   "source": [
    "a.__len__()"
   ]
  },
  {
   "cell_type": "code",
   "execution_count": 131,
   "metadata": {},
   "outputs": [
    {
     "output_type": "stream",
     "name": "stdout",
     "text": [
      "S\nt\nr\ni\nn\ng\n"
     ]
    }
   ],
   "source": [
    "for i in range(len(a)):\n",
    "    print(a[i])"
   ]
  },
  {
   "cell_type": "code",
   "execution_count": 132,
   "metadata": {},
   "outputs": [
    {
     "output_type": "stream",
     "name": "stdout",
     "text": [
      "1\n3\n5\n7\n9\n"
     ]
    }
   ],
   "source": [
    "print(*range(1, 10, 2), sep=\"\\n\")"
   ]
  },
  {
   "cell_type": "code",
   "execution_count": 133,
   "metadata": {},
   "outputs": [],
   "source": [
    "c = a + a"
   ]
  },
  {
   "cell_type": "code",
   "execution_count": 134,
   "metadata": {},
   "outputs": [
    {
     "output_type": "execute_result",
     "data": {
      "text/plain": [
       "'StringString'"
      ]
     },
     "metadata": {},
     "execution_count": 134
    }
   ],
   "source": [
    "c"
   ]
  },
  {
   "cell_type": "code",
   "execution_count": 135,
   "metadata": {},
   "outputs": [
    {
     "output_type": "error",
     "ename": "TypeError",
     "evalue": "'str' object does not support item assignment",
     "traceback": [
      "\u001b[1;31m---------------------------------------------------------------------------\u001b[0m",
      "\u001b[1;31mTypeError\u001b[0m                                 Traceback (most recent call last)",
      "\u001b[1;32m<ipython-input-135-1ee8e0e52f47>\u001b[0m in \u001b[0;36m<module>\u001b[1;34m\u001b[0m\n\u001b[1;32m----> 1\u001b[1;33m \u001b[0mc\u001b[0m\u001b[1;33m[\u001b[0m\u001b[1;36m1\u001b[0m\u001b[1;33m]\u001b[0m \u001b[1;33m=\u001b[0m \u001b[1;34m\"t\"\u001b[0m\u001b[1;33m\u001b[0m\u001b[1;33m\u001b[0m\u001b[0m\n\u001b[0m",
      "\u001b[1;31mTypeError\u001b[0m: 'str' object does not support item assignment"
     ]
    }
   ],
   "source": [
    "c[1] = \"t\""
   ]
  },
  {
   "cell_type": "code",
   "execution_count": 136,
   "metadata": {},
   "outputs": [
    {
     "output_type": "execute_result",
     "data": {
      "text/plain": [
       "'StrinxString'"
      ]
     },
     "metadata": {},
     "execution_count": 136
    }
   ],
   "source": [
    "d = c[:5] + \"x\" + c[6:]\n",
    "d"
   ]
  },
  {
   "cell_type": "code",
   "execution_count": 137,
   "metadata": {},
   "outputs": [
    {
     "output_type": "stream",
     "name": "stdout",
     "text": [
      "irtSgnirtS\ntS\nS\n"
     ]
    }
   ],
   "source": [
    "print(c[-3::-1])\n",
    "print(c[1::-1])\n",
    "print(c[0])"
   ]
  },
  {
   "cell_type": "code",
   "execution_count": 138,
   "metadata": {},
   "outputs": [
    {
     "output_type": "execute_result",
     "data": {
      "text/plain": [
       "list"
      ]
     },
     "metadata": {},
     "execution_count": 138
    }
   ],
   "source": [
    "a = [1, 3, 5, 7]\n",
    "type(a)"
   ]
  },
  {
   "cell_type": "code",
   "execution_count": 139,
   "metadata": {},
   "outputs": [
    {
     "output_type": "execute_result",
     "data": {
      "text/plain": [
       "[1, 3, 5, 7]"
      ]
     },
     "metadata": {},
     "execution_count": 139
    }
   ],
   "source": [
    "a"
   ]
  },
  {
   "cell_type": "code",
   "execution_count": 140,
   "metadata": {},
   "outputs": [],
   "source": [
    "a[3] = 10000"
   ]
  },
  {
   "cell_type": "code",
   "execution_count": 141,
   "metadata": {},
   "outputs": [
    {
     "output_type": "execute_result",
     "data": {
      "text/plain": [
       "[1, 3, 5, 10000]"
      ]
     },
     "metadata": {},
     "execution_count": 141
    }
   ],
   "source": [
    "a"
   ]
  },
  {
   "cell_type": "code",
   "execution_count": 142,
   "metadata": {},
   "outputs": [],
   "source": [
    "a[3] = \"jkadsdflkjgh\""
   ]
  },
  {
   "cell_type": "code",
   "execution_count": 144,
   "metadata": {},
   "outputs": [
    {
     "output_type": "execute_result",
     "data": {
      "text/plain": [
       "[1, 3, 5, 'jkadsdflkjgh']"
      ]
     },
     "metadata": {},
     "execution_count": 144
    }
   ],
   "source": [
    "a"
   ]
  },
  {
   "cell_type": "code",
   "execution_count": 145,
   "metadata": {},
   "outputs": [],
   "source": [
    "a[2] = c"
   ]
  },
  {
   "cell_type": "code",
   "execution_count": 146,
   "metadata": {},
   "outputs": [
    {
     "output_type": "execute_result",
     "data": {
      "text/plain": [
       "[1, 3, 'StringString', 'jkadsdflkjgh']"
      ]
     },
     "metadata": {},
     "execution_count": 146
    }
   ],
   "source": [
    "a"
   ]
  },
  {
   "cell_type": "code",
   "execution_count": 147,
   "metadata": {},
   "outputs": [],
   "source": [
    "a[0] = a"
   ]
  },
  {
   "cell_type": "code",
   "execution_count": 148,
   "metadata": {},
   "outputs": [
    {
     "output_type": "execute_result",
     "data": {
      "text/plain": [
       "[[...], 3, 'StringString', 'jkadsdflkjgh']"
      ]
     },
     "metadata": {},
     "execution_count": 148
    }
   ],
   "source": [
    "a"
   ]
  },
  {
   "cell_type": "code",
   "execution_count": 149,
   "metadata": {},
   "outputs": [
    {
     "output_type": "stream",
     "name": "stdout",
     "text": [
      "[[...], 3, 'StringString', 'jkadsdflkjgh']\n3\nStringString\njkadsdflkjgh\n"
     ]
    }
   ],
   "source": [
    "for element in a:\n",
    "    print(element)"
   ]
  },
  {
   "cell_type": "code",
   "execution_count": 150,
   "metadata": {},
   "outputs": [],
   "source": [
    "a[0]  = 3"
   ]
  },
  {
   "cell_type": "code",
   "execution_count": 151,
   "metadata": {},
   "outputs": [
    {
     "output_type": "execute_result",
     "data": {
      "text/plain": [
       "2774475962112"
      ]
     },
     "metadata": {},
     "execution_count": 151
    }
   ],
   "source": [
    "id(a)"
   ]
  },
  {
   "cell_type": "code",
   "execution_count": 152,
   "metadata": {},
   "outputs": [],
   "source": [
    "b=[54,44,0]"
   ]
  },
  {
   "cell_type": "code",
   "execution_count": 153,
   "metadata": {},
   "outputs": [],
   "source": [
    "a[0] = b"
   ]
  },
  {
   "cell_type": "code",
   "execution_count": 154,
   "metadata": {},
   "outputs": [
    {
     "output_type": "execute_result",
     "data": {
      "text/plain": [
       "[[54, 44, 0], 3, 'StringString', 'jkadsdflkjgh']"
      ]
     },
     "metadata": {},
     "execution_count": 154
    }
   ],
   "source": [
    "a"
   ]
  },
  {
   "cell_type": "code",
   "execution_count": 155,
   "metadata": {},
   "outputs": [],
   "source": [
    "b[0] = \"kdsaflajkhsdf\""
   ]
  },
  {
   "cell_type": "code",
   "execution_count": 156,
   "metadata": {},
   "outputs": [
    {
     "output_type": "execute_result",
     "data": {
      "text/plain": [
       "[['kdsaflajkhsdf', 44, 0], 3, 'StringString', 'jkadsdflkjgh']"
      ]
     },
     "metadata": {},
     "execution_count": 156
    }
   ],
   "source": [
    "a"
   ]
  },
  {
   "cell_type": "code",
   "execution_count": 157,
   "metadata": {},
   "outputs": [],
   "source": [
    "h = a"
   ]
  },
  {
   "cell_type": "code",
   "execution_count": 158,
   "metadata": {},
   "outputs": [
    {
     "output_type": "execute_result",
     "data": {
      "text/plain": [
       "[['kdsaflajkhsdf', 44, 0], 3, 'StringString', 'jkadsdflkjgh']"
      ]
     },
     "metadata": {},
     "execution_count": 158
    }
   ],
   "source": [
    "h"
   ]
  },
  {
   "cell_type": "code",
   "execution_count": 161,
   "metadata": {},
   "outputs": [
    {
     "output_type": "stream",
     "name": "stdout",
     "text": [
      "2774475962112\n2774475962112\n2774457330416\n"
     ]
    }
   ],
   "source": [
    "print(id(h))\n",
    "print(id(a))\n",
    "print(id(c))"
   ]
  },
  {
   "cell_type": "code",
   "execution_count": 162,
   "metadata": {},
   "outputs": [
    {
     "output_type": "execute_result",
     "data": {
      "text/plain": [
       "[['kdsaflajkhsdf', 44, 0], 3, 12345, 'jkadsdflkjgh']"
      ]
     },
     "metadata": {},
     "execution_count": 162
    }
   ],
   "source": [
    "a[2] = 12345\n",
    "h"
   ]
  },
  {
   "cell_type": "code",
   "execution_count": 163,
   "metadata": {},
   "outputs": [
    {
     "output_type": "execute_result",
     "data": {
      "text/plain": [
       "2774457330416"
      ]
     },
     "metadata": {},
     "execution_count": 163
    }
   ],
   "source": [
    "id(c)"
   ]
  },
  {
   "cell_type": "code",
   "execution_count": 164,
   "metadata": {},
   "outputs": [
    {
     "output_type": "execute_result",
     "data": {
      "text/plain": [
       "2774475962112"
      ]
     },
     "metadata": {},
     "execution_count": 164
    }
   ],
   "source": [
    "id(a)"
   ]
  },
  {
   "cell_type": "code",
   "execution_count": 165,
   "metadata": {},
   "outputs": [
    {
     "output_type": "execute_result",
     "data": {
      "text/plain": [
       "2774475962112"
      ]
     },
     "metadata": {},
     "execution_count": 165
    }
   ],
   "source": [
    "id(h)"
   ]
  },
  {
   "cell_type": "code",
   "execution_count": 166,
   "metadata": {},
   "outputs": [],
   "source": [
    "import copy"
   ]
  },
  {
   "cell_type": "code",
   "execution_count": 167,
   "metadata": {},
   "outputs": [],
   "source": [
    "h = copy.copy(a)"
   ]
  },
  {
   "cell_type": "code",
   "execution_count": 168,
   "metadata": {},
   "outputs": [
    {
     "output_type": "stream",
     "name": "stdout",
     "text": [
      "2774475962112\n2774476590592\n"
     ]
    }
   ],
   "source": [
    "print(id(a))\n",
    "print(id(h))"
   ]
  },
  {
   "cell_type": "code",
   "execution_count": 169,
   "metadata": {},
   "outputs": [
    {
     "output_type": "stream",
     "name": "stdout",
     "text": [
      "[['kdsaflajkhsdf', 44, 0], 3, 12345, 'jkadsdflkjgh']\n[['kdsaflajkhsdf', 44, 0], 3, 12345, 'jkadsdflkjgh']\n"
     ]
    }
   ],
   "source": [
    "print(a)\n",
    "print(h)"
   ]
  },
  {
   "cell_type": "code",
   "execution_count": 171,
   "metadata": {},
   "outputs": [],
   "source": [
    "h = copy.deepcopy(a)"
   ]
  },
  {
   "cell_type": "code",
   "execution_count": 173,
   "metadata": {},
   "outputs": [],
   "source": [
    "h[0][0] = 577"
   ]
  },
  {
   "cell_type": "code",
   "execution_count": 174,
   "metadata": {},
   "outputs": [
    {
     "output_type": "stream",
     "name": "stdout",
     "text": [
      "[[300, 44, 0], 3, 12345, 'jkadsdflkjgh']\n[[577, 44, 0], 3, 12345, 'jkadsdflkjgh']\n"
     ]
    }
   ],
   "source": [
    "print(a)\n",
    "print(h)"
   ]
  },
  {
   "cell_type": "code",
   "execution_count": 175,
   "metadata": {},
   "outputs": [],
   "source": [
    "hh = h[0]"
   ]
  },
  {
   "cell_type": "code",
   "execution_count": 176,
   "metadata": {},
   "outputs": [
    {
     "output_type": "stream",
     "name": "stdout",
     "text": [
      "[[577, 4848484, 0], 3, 12345, 'jkadsdflkjgh']\n"
     ]
    }
   ],
   "source": [
    "hh[1] = 4848484\n",
    "print(h)"
   ]
  },
  {
   "cell_type": "code",
   "execution_count": 178,
   "metadata": {},
   "outputs": [
    {
     "output_type": "stream",
     "name": "stdout",
     "text": [
      "[300, 44, 0]\n"
     ]
    }
   ],
   "source": [
    "print(b)"
   ]
  },
  {
   "cell_type": "code",
   "execution_count": 179,
   "metadata": {},
   "outputs": [],
   "source": [
    "deep_a = a.copy()"
   ]
  },
  {
   "cell_type": "code",
   "execution_count": 180,
   "metadata": {},
   "outputs": [
    {
     "output_type": "execute_result",
     "data": {
      "text/plain": [
       "[8, 44, 0]"
      ]
     },
     "metadata": {},
     "execution_count": 180
    }
   ],
   "source": [
    "deep_a[0][0] = 8\n",
    "b"
   ]
  },
  {
   "cell_type": "code",
   "execution_count": 184,
   "metadata": {},
   "outputs": [
    {
     "output_type": "stream",
     "name": "stdout",
     "text": [
      "[5, 4, 5, 4, 5, 4, 5, 4, 5, 4, 5, 4, 5, 4, 5, 4, 5, 4, 5, 4, 5, 4, 5, 4, 5, 4, 5, 4, 5, 4, 5, 4, 5, 4, 5, 4, 5, 4, 5, 4, 5, 4, 5, 4, 5, 4, 5, 4, 5, 4, 5, 4, 5, 4, 5, 4, 5, 4, 5, 4, 5, 4, 5, 4, 5, 4, 5, 4, 5, 4, 5, 4, 5, 4, 5, 4, 5, 4, 5, 4, 5, 4, 5, 4, 5, 4, 5, 4, 5, 4, 5, 4, 5, 4, 5, 4, 5, 4, 5, 4, 5, 4, 5, 4, 5, 4, 5, 4, 5, 4, 5, 4, 5, 4, 5, 4, 5, 4, 5, 4, 5, 4, 5, 4, 5, 4, 5, 4, 5, 4, 5, 4, 5, 4, 5, 4, 5, 4, 5, 4, 5, 4, 5, 4, 5, 4, 5, 4, 5, 4, 5, 4, 5, 4, 5, 4, 5, 4, 5, 4, 5, 4, 5, 4, 5, 4, 5, 4, 5, 4, 5, 4, 5, 4, 5, 4, 5, 4, 5, 4, 5, 4, 5, 4, 5, 4, 5, 4, 5, 4, 5, 4, 5, 4, 5, 4, 5, 4, 5, 4]\n"
     ]
    }
   ],
   "source": [
    "a = [5, 4] * 100\n",
    "print(a)"
   ]
  },
  {
   "cell_type": "code",
   "execution_count": 183,
   "metadata": {},
   "outputs": [
    {
     "output_type": "stream",
     "name": "stdout",
     "text": [
      "[5, 4, 5, 4, 5, 4, 5, 4, 5, 4, 5, 4, 5, 4, 5, 4, 5, 4, 5, 4, 5, 4, 5, 4, 5, 4, 5, 4, 5, 4, 5, 4, 5, 4, 5, 4, 5, 4, 5, 4, 5, 4, 5, 4, 5, 4, 5, 4, 5, 4, 5, 4, 5, 4, 5, 4, 5, 4, 5, 4, 5, 4, 5, 4, 5, 4, 5, 4, 5, 4, 5, 4, 5, 4, 5, 4, 5, 4, 5, 4, 5, 4, 5, 4, 5, 4, 5, 4, 5, 4, 5, 4, 5, 4, 5, 4, 5, 4, 5, 4, 5, 4, 5, 4, 5, 4, 5, 4, 5, 4, 5, 4, 5, 4, 5, 4, 5, 4, 5, 4, 5, 4, 5, 4, 5, 4, 5, 4, 5, 4, 5, 4, 5, 4, 5, 4, 5, 4, 5, 4, 5, 4, 5, 4, 5, 4, 5, 4, 5, 4, 5, 4, 5, 4, 5, 4, 5, 4, 5, 4, 5, 4, 5, 4, 5, 4, 5, 4, 5, 4, 5, 4, 5, 4, 5, 4, 5, 4, 5, 4, 5, 4, 5, 4, 5, 4, 5, 4, 5, 4, 5, 4, 5, 4, 5, 4, 5, 4, 5, 4, 8, 44, 0]\n"
     ]
    }
   ],
   "source": [
    "print(a + b)"
   ]
  },
  {
   "cell_type": "code",
   "execution_count": 186,
   "metadata": {},
   "outputs": [],
   "source": [
    "a.append(\"kasd;flkahsdf\")"
   ]
  },
  {
   "cell_type": "code",
   "execution_count": 188,
   "metadata": {},
   "outputs": [
    {
     "output_type": "stream",
     "name": "stdout",
     "text": [
      "[5, 4, 5, 4, 5, 4, 5, 4, 5, 4, 5, 4, 5, 4, 5, 4, 5, 4, 5, 4, 5, 4, 5, 4, 5, 4, 5, 4, 5, 4, 5, 4, 5, 4, 5, 4, 5, 4, 5, 4, 5, 4, 5, 4, 5, 4, 5, 4, 5, 4, 5, 4, 5, 4, 5, 4, 5, 4, 5, 4, 5, 4, 5, 4, 5, 4, 5, 4, 5, 4, 5, 4, 5, 4, 5, 4, 5, 4, 5, 4, 5, 4, 5, 4, 5, 4, 5, 4, 5, 4, 5, 4, 5, 4, 5, 4, 5, 4, 5, 4, 5, 4, 5, 4, 5, 4, 5, 4, 5, 4, 5, 4, 5, 4, 5, 4, 5, 4, 5, 4, 5, 4, 5, 4, 5, 4, 5, 4, 5, 4, 5, 4, 5, 4, 5, 4, 5, 4, 5, 4, 5, 4, 5, 4, 5, 4, 5, 4, 5, 4, 5, 4, 5, 4, 5, 4, 5, 4, 5, 4, 5, 4, 5, 4, 5, 4, 5, 4, 5, 4, 5, 4, 5, 4, 5, 4, 5, 4, 5, 4, 5, 4, 5, 4, 5, 4, 5, 4, 5, 4, 5, 4, 5, 4, 5, 4, 5, 4, 5, 4, 'kasd;flkahsdf', 'kasd;flkahsdf']\n"
     ]
    }
   ],
   "source": [
    "print(a)"
   ]
  },
  {
   "cell_type": "code",
   "execution_count": 189,
   "metadata": {},
   "outputs": [
    {
     "output_type": "stream",
     "name": "stdout",
     "text": [
      "['__add__', '__class__', '__class_getitem__', '__contains__', '__delattr__', '__delitem__', '__dir__', '__doc__', '__eq__', '__format__', '__ge__', '__getattribute__', '__getitem__', '__gt__', '__hash__', '__iadd__', '__imul__', '__init__', '__init_subclass__', '__iter__', '__le__', '__len__', '__lt__', '__mul__', '__ne__', '__new__', '__reduce__', '__reduce_ex__', '__repr__', '__reversed__', '__rmul__', '__setattr__', '__setitem__', '__sizeof__', '__str__', '__subclasshook__', 'append', 'clear', 'copy', 'count', 'extend', 'index', 'insert', 'pop', 'remove', 'reverse', 'sort']\n"
     ]
    }
   ],
   "source": [
    "print(dir(a))"
   ]
  },
  {
   "cell_type": "code",
   "execution_count": 191,
   "metadata": {},
   "outputs": [
    {
     "output_type": "execute_result",
     "data": {
      "text/plain": [
       "200"
      ]
     },
     "metadata": {},
     "execution_count": 191
    }
   ],
   "source": [
    "a.index(\"kasd;flkahsdf\")"
   ]
  },
  {
   "cell_type": "code",
   "execution_count": 196,
   "metadata": {},
   "outputs": [
    {
     "output_type": "execute_result",
     "data": {
      "text/plain": [
       "100"
      ]
     },
     "metadata": {},
     "execution_count": 196
    }
   ],
   "source": [
    "a.count(5)"
   ]
  },
  {
   "cell_type": "code",
   "execution_count": 198,
   "metadata": {},
   "outputs": [
    {
     "output_type": "execute_result",
     "data": {
      "text/plain": [
       "0"
      ]
     },
     "metadata": {},
     "execution_count": 198
    }
   ],
   "source": [
    "a.count(3)"
   ]
  },
  {
   "cell_type": "code",
   "execution_count": 199,
   "metadata": {},
   "outputs": [
    {
     "output_type": "execute_result",
     "data": {
      "text/plain": [
       "{'key': 'value'}"
      ]
     },
     "metadata": {},
     "execution_count": 199
    }
   ],
   "source": [
    "d = {\"key\": \"value\"}\n",
    "d"
   ]
  },
  {
   "cell_type": "code",
   "execution_count": 200,
   "metadata": {},
   "outputs": [
    {
     "output_type": "execute_result",
     "data": {
      "text/plain": [
       "'value'"
      ]
     },
     "metadata": {},
     "execution_count": 200
    }
   ],
   "source": [
    "d[\"key\"]"
   ]
  },
  {
   "cell_type": "code",
   "execution_count": 207,
   "metadata": {},
   "outputs": [
    {
     "output_type": "stream",
     "name": "stdout",
     "text": [
      "value3\n"
     ]
    }
   ],
   "source": [
    "print(d.get(\"key2\"))"
   ]
  },
  {
   "cell_type": "code",
   "execution_count": 202,
   "metadata": {},
   "outputs": [],
   "source": [
    "d[\"key2\"] = \"value3\""
   ]
  },
  {
   "cell_type": "code",
   "execution_count": 204,
   "metadata": {},
   "outputs": [
    {
     "output_type": "execute_result",
     "data": {
      "text/plain": [
       "{'key': 'value', 'key2': 'value3'}"
      ]
     },
     "metadata": {},
     "execution_count": 204
    }
   ],
   "source": [
    "d"
   ]
  },
  {
   "cell_type": "code",
   "execution_count": 208,
   "metadata": {},
   "outputs": [],
   "source": [
    "d.update(key3=4)"
   ]
  },
  {
   "cell_type": "code",
   "execution_count": 209,
   "metadata": {},
   "outputs": [
    {
     "output_type": "execute_result",
     "data": {
      "text/plain": [
       "{'key': 'value', 'key2': 'value3', 'key3': 4}"
      ]
     },
     "metadata": {},
     "execution_count": 209
    }
   ],
   "source": [
    "d"
   ]
  },
  {
   "cell_type": "code",
   "execution_count": 210,
   "metadata": {},
   "outputs": [
    {
     "output_type": "execute_result",
     "data": {
      "text/plain": [
       "dict_keys(['key', 'key2', 'key3'])"
      ]
     },
     "metadata": {},
     "execution_count": 210
    }
   ],
   "source": [
    "d.keys()"
   ]
  },
  {
   "cell_type": "code",
   "execution_count": 211,
   "metadata": {},
   "outputs": [
    {
     "output_type": "stream",
     "name": "stdout",
     "text": [
      "key, key2, key3, "
     ]
    }
   ],
   "source": [
    "for key in d.keys():\n",
    "    print(key, end=\", \")"
   ]
  },
  {
   "cell_type": "code",
   "execution_count": 212,
   "metadata": {},
   "outputs": [
    {
     "output_type": "stream",
     "name": "stdout",
     "text": [
      "value, value3, 4, "
     ]
    }
   ],
   "source": [
    "for key in d.values():\n",
    "    print(key, end=\", \")"
   ]
  },
  {
   "cell_type": "code",
   "execution_count": 213,
   "metadata": {},
   "outputs": [
    {
     "output_type": "stream",
     "name": "stdout",
     "text": [
      "('key', 'value'), ('key2', 'value3'), ('key3', 4), "
     ]
    }
   ],
   "source": [
    "for key in d.items():\n",
    "    print(key, end=\", \")"
   ]
  },
  {
   "cell_type": "code",
   "execution_count": 214,
   "metadata": {},
   "outputs": [
    {
     "output_type": "stream",
     "name": "stdout",
     "text": [
      "['__class__', '__class_getitem__', '__contains__', '__delattr__', '__delitem__', '__dir__', '__doc__', '__eq__', '__format__', '__ge__', '__getattribute__', '__getitem__', '__gt__', '__hash__', '__init__', '__init_subclass__', '__ior__', '__iter__', '__le__', '__len__', '__lt__', '__ne__', '__new__', '__or__', '__reduce__', '__reduce_ex__', '__repr__', '__reversed__', '__ror__', '__setattr__', '__setitem__', '__sizeof__', '__str__', '__subclasshook__', 'clear', 'copy', 'fromkeys', 'get', 'items', 'keys', 'pop', 'popitem', 'setdefault', 'update', 'values']\n"
     ]
    }
   ],
   "source": [
    "print(dir(d))"
   ]
  },
  {
   "cell_type": "code",
   "execution_count": 215,
   "metadata": {},
   "outputs": [
    {
     "output_type": "execute_result",
     "data": {
      "text/plain": [
       "{'key': [4, 5], 'key2': 'value3', 'key3': 4}"
      ]
     },
     "metadata": {},
     "execution_count": 215
    }
   ],
   "source": [
    "d[\"key\"] = [4, 5]\n",
    "d"
   ]
  },
  {
   "cell_type": "code",
   "execution_count": 216,
   "metadata": {},
   "outputs": [],
   "source": [
    "a = 543, 495"
   ]
  },
  {
   "cell_type": "code",
   "execution_count": 217,
   "metadata": {},
   "outputs": [
    {
     "output_type": "execute_result",
     "data": {
      "text/plain": [
       "(543, 495)"
      ]
     },
     "metadata": {},
     "execution_count": 217
    }
   ],
   "source": [
    "a"
   ]
  },
  {
   "cell_type": "code",
   "execution_count": 218,
   "metadata": {},
   "outputs": [],
   "source": [
    "a = tuple([3, 4, 5])"
   ]
  },
  {
   "cell_type": "code",
   "execution_count": 219,
   "metadata": {},
   "outputs": [
    {
     "output_type": "execute_result",
     "data": {
      "text/plain": [
       "tuple"
      ]
     },
     "metadata": {},
     "execution_count": 219
    }
   ],
   "source": [
    "type(a)"
   ]
  },
  {
   "cell_type": "code",
   "execution_count": 220,
   "metadata": {},
   "outputs": [
    {
     "output_type": "execute_result",
     "data": {
      "text/plain": [
       "4"
      ]
     },
     "metadata": {},
     "execution_count": 220
    }
   ],
   "source": [
    "a[1]"
   ]
  },
  {
   "cell_type": "code",
   "execution_count": 221,
   "metadata": {},
   "outputs": [
    {
     "output_type": "error",
     "ename": "TypeError",
     "evalue": "'tuple' object does not support item assignment",
     "traceback": [
      "\u001b[1;31m---------------------------------------------------------------------------\u001b[0m",
      "\u001b[1;31mTypeError\u001b[0m                                 Traceback (most recent call last)",
      "\u001b[1;32m<ipython-input-221-c55e479e7831>\u001b[0m in \u001b[0;36m<module>\u001b[1;34m\u001b[0m\n\u001b[1;32m----> 1\u001b[1;33m \u001b[0ma\u001b[0m\u001b[1;33m[\u001b[0m\u001b[1;36m0\u001b[0m\u001b[1;33m]\u001b[0m \u001b[1;33m=\u001b[0m \u001b[1;36m3\u001b[0m\u001b[1;33m\u001b[0m\u001b[1;33m\u001b[0m\u001b[0m\n\u001b[0m",
      "\u001b[1;31mTypeError\u001b[0m: 'tuple' object does not support item assignment"
     ]
    }
   ],
   "source": [
    "a[0] = 3"
   ]
  },
  {
   "cell_type": "code",
   "execution_count": 222,
   "metadata": {},
   "outputs": [],
   "source": [
    "a = {3, 5, 7}"
   ]
  },
  {
   "cell_type": "code",
   "execution_count": 223,
   "metadata": {},
   "outputs": [
    {
     "output_type": "execute_result",
     "data": {
      "text/plain": [
       "{3, 5, 7}"
      ]
     },
     "metadata": {},
     "execution_count": 223
    }
   ],
   "source": [
    "a"
   ]
  },
  {
   "cell_type": "code",
   "execution_count": 224,
   "metadata": {},
   "outputs": [
    {
     "output_type": "execute_result",
     "data": {
      "text/plain": [
       "set"
      ]
     },
     "metadata": {},
     "execution_count": 224
    }
   ],
   "source": [
    "type(a)"
   ]
  },
  {
   "cell_type": "code",
   "execution_count": 226,
   "metadata": {},
   "outputs": [],
   "source": [
    "a = set()"
   ]
  },
  {
   "cell_type": "code",
   "execution_count": 227,
   "metadata": {},
   "outputs": [
    {
     "output_type": "execute_result",
     "data": {
      "text/plain": [
       "set()"
      ]
     },
     "metadata": {},
     "execution_count": 227
    }
   ],
   "source": [
    "a"
   ]
  },
  {
   "cell_type": "code",
   "execution_count": 228,
   "metadata": {},
   "outputs": [],
   "source": [
    "a.update([3,45, 6])"
   ]
  },
  {
   "cell_type": "code",
   "execution_count": 230,
   "metadata": {},
   "outputs": [
    {
     "output_type": "execute_result",
     "data": {
      "text/plain": [
       "{3, 6, 45}"
      ]
     },
     "metadata": {},
     "execution_count": 230
    }
   ],
   "source": [
    "a"
   ]
  },
  {
   "cell_type": "code",
   "execution_count": 231,
   "metadata": {},
   "outputs": [],
   "source": [
    "a.add(65)"
   ]
  },
  {
   "cell_type": "code",
   "execution_count": 232,
   "metadata": {},
   "outputs": [
    {
     "output_type": "execute_result",
     "data": {
      "text/plain": [
       "{3, 6, 45, 65}"
      ]
     },
     "metadata": {},
     "execution_count": 232
    }
   ],
   "source": [
    "a"
   ]
  },
  {
   "cell_type": "code",
   "execution_count": 233,
   "metadata": {},
   "outputs": [],
   "source": [
    "b = {3, 5, 6, 7}"
   ]
  },
  {
   "cell_type": "code",
   "execution_count": 234,
   "metadata": {},
   "outputs": [
    {
     "output_type": "stream",
     "name": "stdout",
     "text": [
      "{65, 3, 45, 6}\n{3, 5, 6, 7}\n"
     ]
    }
   ],
   "source": [
    "print(a)\n",
    "print(b)"
   ]
  },
  {
   "cell_type": "code",
   "execution_count": 235,
   "metadata": {},
   "outputs": [
    {
     "output_type": "stream",
     "name": "stdout",
     "text": [
      "{3, 6}\n"
     ]
    }
   ],
   "source": [
    "res = a & b\n",
    "print(res)"
   ]
  },
  {
   "cell_type": "code",
   "execution_count": 236,
   "metadata": {},
   "outputs": [
    {
     "output_type": "stream",
     "name": "stdout",
     "text": [
      "{65, 3, 5, 6, 7, 45}\n"
     ]
    }
   ],
   "source": [
    "res = a | b\n",
    "print(res)"
   ]
  },
  {
   "cell_type": "code",
   "execution_count": 237,
   "metadata": {},
   "outputs": [
    {
     "output_type": "stream",
     "name": "stdout",
     "text": [
      "{65, 5, 7, 45}\n"
     ]
    }
   ],
   "source": [
    "res = a ^ b\n",
    "print(res)"
   ]
  },
  {
   "cell_type": "code",
   "execution_count": 238,
   "metadata": {},
   "outputs": [
    {
     "output_type": "stream",
     "name": "stdout",
     "text": [
      "[1, 2, 3, 3, 4, 6, 5, 5]\n"
     ]
    }
   ],
   "source": [
    "l = [1,2,3,3,4,6,5,5]\n",
    "print(l)"
   ]
  },
  {
   "cell_type": "code",
   "execution_count": 239,
   "metadata": {},
   "outputs": [
    {
     "output_type": "stream",
     "name": "stdout",
     "text": [
      "{1, 2, 3, 4, 5, 6}\n"
     ]
    }
   ],
   "source": [
    "a= set(l)\n",
    "print(a)"
   ]
  },
  {
   "cell_type": "code",
   "execution_count": 240,
   "metadata": {},
   "outputs": [],
   "source": [
    "import array"
   ]
  },
  {
   "cell_type": "code",
   "execution_count": 241,
   "metadata": {},
   "outputs": [
    {
     "output_type": "stream",
     "name": "stdout",
     "text": [
      "['ArrayType', '__doc__', '__loader__', '__name__', '__package__', '__spec__', '_array_reconstructor', 'array', 'typecodes']\n"
     ]
    }
   ],
   "source": [
    "print(dir(array))"
   ]
  },
  {
   "cell_type": "code",
   "execution_count": 264,
   "metadata": {},
   "outputs": [],
   "source": [
    "arr1 = array.array(\"d\", [1,4,6])"
   ]
  },
  {
   "cell_type": "code",
   "execution_count": 265,
   "metadata": {},
   "outputs": [
    {
     "output_type": "execute_result",
     "data": {
      "text/plain": [
       "array('d', [1.0, 4.0, 6.0])"
      ]
     },
     "metadata": {},
     "execution_count": 265
    }
   ],
   "source": [
    "arr1"
   ]
  },
  {
   "cell_type": "code",
   "execution_count": 266,
   "metadata": {},
   "outputs": [],
   "source": [
    "arr = array.array(\"d\", [0,4,6]*50000)"
   ]
  },
  {
   "cell_type": "code",
   "execution_count": 267,
   "metadata": {},
   "outputs": [
    {
     "output_type": "execute_result",
     "data": {
      "text/plain": [
       "6.0, 0.0, 4.0, 6.0, 0.0, 4.0, 6.0, 0.0, 4.0, 6.0, 0.0, 4.0, 6.0, 0.0, 4.0, 6.0, 0.0, 4.0, 6.0, 0.0, 4.0, 6.0, 0.0, 4.0, 6.0, 0.0, 4.0, 6.0, 0.0, 4.0, 6.0, 0.0, 4.0, 6.0, 0.0, 4.0, 6.0, 0.0, 4.0, 6.0, 0.0, 4.0, 6.0, 0.0, 4.0, 6.0, 0.0, 4.0, 6.0, 0.0, 4.0, 6.0, 0.0, 4.0, 6.0, 0.0, 4.0, 6.0, 0.0, 4.0, 6.0, 0.0, 4.0, 6.0, 0.0, 4.0, 6.0, 0.0, 4.0, 6.0, 0.0, 4.0, 6.0, 0.0, 4.0, 6.0, 0.0, 4.0, 6.0, 0.0, 4.0, 6.0, 0.0, 4.0, 6.0, 0.0, 4.0, 6.0, 0.0, 4.0, 6.0, 0.0, 4.0, 6.0, 0.0, 4.0, 6.0, 0.0, 4.0, 6.0, 0.0, 4.0, 6.0, 0.0, 4.0, 6.0, 0.0, 4.0, 6.0, 0.0, 4.0, 6.0, 0.0, 4.0, 6.0, 0.0, 4.0, 6.0, 0.0, 4.0, 6.0, 0.0, 4.0, 6.0, 0.0, 4.0, 6.0, 0.0, 4.0, 6.0, 0.0, 4.0, 6.0, 0.0, 4.0, 6.0, 0.0, 4.0, 6.0, 0.0, 4.0, 6.0, 0.0, 4.0, 6.0, 0.0, 4.0, 6.0, 0.0, 4.0, 6.0, 0.0, 4.0, 6.0, 0.0, 4.0, 6.0, 0.0, 4.0, 6.0, 0.0, 4.0, 6.0, 0.0, 4.0, 6.0, 0.0, 4.0, 6.0, 0.0, 4.0, 6.0, 0.0, 4.0, 6.0, 0.0, 4.0, 6.0, 0.0, 4.0, 6.0, 0.0, 4.0, 6.0, 0.0, 4.0, 6.0, 0.0, 4.0, 6.0, 0.0, 4.0, 6.0, 0.0, 4.0, 6.0, 0.0, 4.0, 6.0, 0.0, 4.0, 6.0, 0.0, 4.0, 6.0, 0.0, 4.0, 6.0, 0.0, 4.0, 6.0, 0.0, 4.0, 6.0, 0.0, 4.0, 6.0, 0.0, 4.0, 6.0, 0.0, 4.0, 6.0, 0.0, 4.0, 6.0, 0.0, 4.0, 6.0, 0.0, 4.0, 6.0, 0.0, 4.0, 6.0, 0.0, 4.0, 6.0, 0.0, 4.0, 6.0, 0.0, 4.0, 6.0, 0.0, 4.0, 6.0, 0.0, 4.0, 6.0, 0.0, 4.0, 6.0, 0.0, 4.0, 6.0, 0.0, 4.0, 6.0, 0.0, 4.0, 6.0, 0.0, 4.0, 6.0, 0.0, 4.0, 6.0, 0.0, 4.0, 6.0, 0.0, 4.0, 6.0, 0.0, 4.0, 6.0, 0.0, 4.0, 6.0, 0.0, 4.0, 6.0, 0.0, 4.0, 6.0, 0.0, 4.0, 6.0, 0.0, 4.0, 6.0, 0.0, 4.0, 6.0, 0.0, 4.0, 6.0, 0.0, 4.0, 6.0, 0.0, 4.0, 6.0, 0.0, 4.0, 6.0, 0.0, 4.0, 6.0, 0.0, 4.0, 6.0, 0.0, 4.0, 6.0, 0.0, 4.0, 6.0, 0.0, 4.0, 6.0, 0.0, 4.0, 6.0, 0.0, 4.0, 6.0, 0.0, 4.0, 6.0, 0.0, 4.0, 6.0, 0.0, 4.0, 6.0, 0.0, 4.0, 6.0, 0.0, 4.0, 6.0, 0.0, 4.0, 6.0, 0.0, 4.0, 6.0, 0.0, 4.0, 6.0, 0.0, 4.0, 6.0, 0.0, 4.0, 6.0, 0.0, 4.0, 6.0, 0.0, 4.0, 6.0, 0.0, 4.0, 6.0, 0.0, 4.0, 6.0, 0.0, 4.0, 6.0, 0.0, 4.0, 6.0, 0.0, 4.0, 6.0, 0.0, 4.0, 6.0, 0.0, 4.0, 6.0, 0.0, 4.0, 6.0, 0.0, 4.0, 6.0, 0.0, 4.0, 6.0, 0.0, 4.0, 6.0, 0.0, 4.0, 6.0, 0.0, 4.0, 6.0, 0.0, 4.0, 6.0, 0.0, 4.0, 6.0, 0.0, 4.0, 6.0, 0.0, 4.0, 6.0, 0.0, 4.0, 6.0, 0.0, 4.0, 6.0, 0.0, 4.0, 6.0, 0.0, 4.0, 6.0, 0.0, 4.0, 6.0, 0.0, 4.0, 6.0, 0.0, 4.0, 6.0, 0.0, 4.0, 6.0, 0.0, 4.0, 6.0, 0.0, 4.0, 6.0, 0.0, 4.0, 6.0, 0.0, 4.0, 6.0, 0.0, 4.0, 6.0, 0.0, 4.0, 6.0, 0.0, 4.0, 6.0, 0.0, 4.0, 6.0, 0.0, 4.0, 6.0, 0.0, 4.0, 6.0, 0.0, 4.0, 6.0, 0.0, 4.0, 6.0, 0.0, 4.0, 6.0, 0.0, 4.0, 6.0, 0.0, 4.0, 6.0, 0.0, 4.0, 6.0, 0.0, 4.0, 6.0, 0.0, 4.0, 6.0, 0.0, 4.0, 6.0, 0.0, 4.0, 6.0, 0.0, 4.0, 6.0, 0.0, 4.0, 6.0, 0.0, 4.0, 6.0, 0.0, 4.0, 6.0, 0.0, 4.0, 6.0, 0.0, 4.0, 6.0, 0.0, 4.0, 6.0, 0.0, 4.0, 6.0, 0.0, 4.0, 6.0, 0.0, 4.0, 6.0, 0.0, 4.0, 6.0, 0.0, 4.0, 6.0, 0.0, 4.0, 6.0, 0.0, 4.0, 6.0, 0.0, 4.0, 6.0, 0.0, 4.0, 6.0, 0.0, 4.0, 6.0, 0.0, 4.0, 6.0, 0.0, 4.0, 6.0, 0.0, 4.0, 6.0, 0.0, 4.0, 6.0, 0.0, 4.0, 6.0, 0.0, 4.0, 6.0, 0.0, 4.0, 6.0, 0.0, 4.0, 6.0, 0.0, 4.0, 6.0, 0.0, 4.0, 6.0, 0.0, 4.0, 6.0, 0.0, 4.0, 6.0, 0.0, 4.0, 6.0, 0.0, 4.0, 6.0, 0.0, 4.0, 6.0, 0.0, 4.0, 6.0, 0.0, 4.0, 6.0, 0.0, 4.0, 6.0, 0.0, 4.0, 6.0, 0.0, 4.0, 6.0, 0.0, 4.0, 6.0, 0.0, 4.0, 6.0, 0.0, 4.0, 6.0, 0.0, 4.0, 6.0, 0.0, 4.0, 6.0, 0.0, 4.0, 6.0, 0.0, 4.0, 6.0, 0.0, 4.0, 6.0, 0.0, 4.0, 6.0, 0.0, 4.0, 6.0, 0.0, 4.0, 6.0, 0.0, 4.0, 6.0, 0.0, 4.0, 6.0, 0.0, 4.0, 6.0, 0.0, 4.0, 6.0, 0.0, 4.0, 6.0, 0.0, 4.0, 6.0, 0.0, 4.0, 6.0, 0.0, 4.0, 6.0, 0.0, 4.0, 6.0, 0.0, 4.0, 6.0, 0.0, 4.0, 6.0, 0.0, 4.0, 6.0, 0.0, 4.0, 6.0, 0.0, 4.0, 6.0, 0.0, 4.0, 6.0, 0.0, 4.0, 6.0, 0.0, 4.0, 6.0, 0.0, 4.0, 6.0, 0.0, 4.0, 6.0, 0.0, 4.0, 6.0, 0.0, 4.0, 6.0, 0.0, 4.0, 6.0, 0.0, 4.0, 6.0, 0.0, 4.0, 6.0, 0.0, 4.0, 6.0, 0.0, 4.0, 6.0, 0.0, 4.0, 6.0, 0.0, 4.0, 6.0, 0.0, 4.0, 6.0, 0.0, 4.0, 6.0, 0.0, 4.0, 6.0, 0.0, 4.0, 6.0, 0.0, 4.0, 6.0, 0.0, 4.0, 6.0, 0.0, 4.0, 6.0, 0.0, 4.0, 6.0, 0.0, 4.0, 6.0, 0.0, 4.0, 6.0, 0.0, 4.0, 6.0, 0.0, 4.0, 6.0, 0.0, 4.0, 6.0, 0.0, 4.0, 6.0, 0.0, 4.0, 6.0, 0.0, 4.0, 6.0, 0.0, 4.0, 6.0, 0.0, 4.0, 6.0, 0.0, 4.0, 6.0, 0.0, 4.0, 6.0, 0.0, 4.0, 6.0, 0.0, 4.0, 6.0, 0.0, 4.0, 6.0, 0.0, 4.0, 6.0, 0.0, 4.0, 6.0, 0.0, 4.0, 6.0, 0.0, 4.0, 6.0, 0.0, 4.0, 6.0, 0.0, 4.0, 6.0, 0.0, 4.0, 6.0, 0.0, 4.0, 6.0, 0.0, 4.0, 6.0, 0.0, 4.0, 6.0, 0.0, 4.0, 6.0, 0.0, 4.0, 6.0, 0.0, 4.0, 6.0, 0.0, 4.0, 6.0, 0.0, 4.0, 6.0, 0.0, 4.0, 6.0, 0.0, 4.0, 6.0, 0.0, 4.0, 6.0, 0.0, 4.0, 6.0, 0.0, 4.0, 6.0, 0.0, 4.0, 6.0, 0.0, 4.0, 6.0, 0.0, 4.0, 6.0, 0.0, 4.0, 6.0, 0.0, 4.0, 6.0, 0.0, 4.0, 6.0, 0.0, 4.0, 6.0, 0.0, 4.0, 6.0, 0.0, 4.0, 6.0, 0.0, 4.0, 6.0, 0.0, 4.0, 6.0, 0.0, 4.0, 6.0, 0.0, 4.0, 6.0, 0.0, 4.0, 6.0, 0.0, 4.0, 6.0, 0.0, 4.0, 6.0, 0.0, 4.0, 6.0, 0.0, 4.0, 6.0, 0.0, 4.0, 6.0, 0.0, 4.0, 6.0, 0.0, 4.0, 6.0, 0.0, 4.0, 6.0, 0.0, 4.0, 6.0, 0.0, 4.0, 6.0, 0.0, 4.0, 6.0, 0.0, 4.0, 6.0, 0.0, 4.0, 6.0, 0.0, 4.0, 6.0, 0.0, 4.0, 6.0, 0.0, 4.0, 6.0, 0.0, 4.0, 6.0, 0.0, 4.0, 6.0, 0.0, 4.0, 6.0, 0.0, 4.0, 6.0, 0.0, 4.0, 6.0, 0.0, 4.0, 6.0, 0.0, 4.0, 6.0, 0.0, 4.0, 6.0, 0.0, 4.0, 6.0, 0.0, 4.0, 6.0, 0.0, 4.0, 6.0, 0.0, 4.0, 6.0, 0.0, 4.0, 6.0, 0.0, 4.0, 6.0, 0.0, 4.0, 6.0, 0.0, 4.0, 6.0, 0.0, 4.0, 6.0, 0.0, 4.0, 6.0, 0.0, 4.0, 6.0, 0.0, 4.0, 6.0, 0.0, 4.0, 6.0, 0.0, 4.0, 6.0, 0.0, 4.0, 6.0, 0.0, 4.0, 6.0, 0.0, 4.0, 6.0, 0.0, 4.0, 6.0, 0.0, 4.0, 6.0, 0.0, 4.0, 6.0, 0.0, 4.0, 6.0, 0.0, 4.0, 6.0, 0.0, 4.0, 6.0, 0.0, 4.0, 6.0, 0.0, 4.0, 6.0, 0.0, 4.0, 6.0, 0.0, 4.0, 6.0, 0.0, 4.0, 6.0, 0.0, 4.0, 6.0, 0.0, 4.0, 6.0, 0.0, 4.0, 6.0, 0.0, 4.0, 6.0, 0.0, 4.0, 6.0, 0.0, 4.0, 6.0, 0.0, 4.0, 6.0, 0.0, 4.0, 6.0, 0.0, 4.0, 6.0, 0.0, 4.0, 6.0, 0.0, 4.0, 6.0, 0.0, 4.0, 6.0, 0.0, 4.0, 6.0, 0.0, 4.0, 6.0, 0.0, 4.0, 6.0, 0.0, 4.0, 6.0, 0.0, 4.0, 6.0, 0.0, 4.0, 6.0, 0.0, 4.0, 6.0, 0.0, 4.0, 6.0, 0.0, 4.0, 6.0, 0.0, 4.0, 6.0, 0.0, 4.0, 6.0, 0.0, 4.0, 6.0, 0.0, 4.0, 6.0, 0.0, 4.0, 6.0, 0.0, 4.0, 6.0, 0.0, 4.0, 6.0, 0.0, 4.0, 6.0, 0.0, 4.0, 6.0, 0.0, 4.0, 6.0, 0.0, 4.0, 6.0, 0.0, 4.0, 6.0, 0.0, 4.0, 6.0, 0.0, 4.0, 6.0, 0.0, 4.0, 6.0, 0.0, 4.0, 6.0, 0.0, 4.0, 6.0, 0.0, 4.0, 6.0, 0.0, 4.0, 6.0, 0.0, 4.0, 6.0, 0.0, 4.0, 6.0, 0.0, 4.0, 6.0, 0.0, 4.0, 6.0, 0.0, 4.0, 6.0, 0.0, 4.0, 6.0, 0.0, 4.0, 6.0, 0.0, 4.0, 6.0, 0.0, 4.0, 6.0, 0.0, 4.0, 6.0, 0.0, 4.0, 6.0, 0.0, 4.0, 6.0, 0.0, 4.0, 6.0, 0.0, 4.0, 6.0, 0.0, 4.0, 6.0, 0.0, 4.0, 6.0, 0.0, 4.0, 6.0, 0.0, 4.0, 6.0, 0.0, 4.0, 6.0, 0.0, 4.0, 6.0, 0.0, 4.0, 6.0, 0.0, 4.0, 6.0, 0.0, 4.0, 6.0, 0.0, 4.0, 6.0, 0.0, 4.0, 6.0, 0.0, 4.0, 6.0, 0.0, 4.0, 6.0, 0.0, 4.0, 6.0, 0.0, 4.0, 6.0, 0.0, 4.0, 6.0, 0.0, 4.0, 6.0, 0.0, 4.0, 6.0, 0.0, 4.0, 6.0, 0.0, 4.0, 6.0, 0.0, 4.0, 6.0, 0.0, 4.0, 6.0, 0.0, 4.0, 6.0, 0.0, 4.0, 6.0, 0.0, 4.0, 6.0, 0.0, 4.0, 6.0, 0.0, 4.0, 6.0, 0.0, 4.0, 6.0, 0.0, 4.0, 6.0, 0.0, 4.0, 6.0, 0.0, 4.0, 6.0, 0.0, 4.0, 6.0, 0.0, 4.0, 6.0, 0.0, 4.0, 6.0, 0.0, 4.0, 6.0, 0.0, 4.0, 6.0, 0.0, 4.0, 6.0, 0.0, 4.0, 6.0, 0.0, 4.0, 6.0, 0.0, 4.0, 6.0, 0.0, 4.0, 6.0, 0.0, 4.0, 6.0, 0.0, 4.0, 6.0, 0.0, 4.0, 6.0, 0.0, 4.0, 6.0, 0.0, 4.0, 6.0, 0.0, 4.0, 6.0, 0.0, 4.0, 6.0, 0.0, 4.0, 6.0, 0.0, 4.0, 6.0, 0.0, 4.0, 6.0, 0.0, 4.0, 6.0, 0.0, 4.0, 6.0, 0.0, 4.0, 6.0, 0.0, 4.0, 6.0, 0.0, 4.0, 6.0, 0.0, 4.0, 6.0, 0.0, 4.0, 6.0, 0.0, 4.0, 6.0, 0.0, 4.0, 6.0, 0.0, 4.0, 6.0, 0.0, 4.0, 6.0, 0.0, 4.0, 6.0, 0.0, 4.0, 6.0, 0.0, 4.0, 6.0, 0.0, 4.0, 6.0, 0.0, 4.0, 6.0, 0.0, 4.0, 6.0, 0.0, 4.0, 6.0, 0.0, 4.0, 6.0, 0.0, 4.0, 6.0, 0.0, 4.0, 6.0, 0.0, 4.0, 6.0, 0.0, 4.0, 6.0, 0.0, 4.0, 6.0, 0.0, 4.0, 6.0, 0.0, 4.0, 6.0, 0.0, 4.0, 6.0, 0.0, 4.0, 6.0, 0.0, 4.0, 6.0, 0.0, 4.0, 6.0, 0.0, 4.0, 6.0, 0.0, 4.0, 6.0, 0.0, 4.0, 6.0, 0.0, 4.0, 6.0, 0.0, 4.0, 6.0, 0.0, 4.0, 6.0, 0.0, 4.0, 6.0, 0.0, 4.0, 6.0, 0.0, 4.0, 6.0, 0.0, 4.0, 6.0, 0.0, 4.0, 6.0, 0.0, 4.0, 6.0, 0.0, 4.0, 6.0, 0.0, 4.0, 6.0, 0.0, 4.0, 6.0, 0.0, 4.0, 6.0, 0.0, 4.0, 6.0, 0.0, 4.0, 6.0, 0.0, 4.0, 6.0, 0.0, 4.0, 6.0, 0.0, 4.0, 6.0, 0.0, 4.0, 6.0, 0.0, 4.0, 6.0, 0.0, 4.0, 6.0, 0.0, 4.0, 6.0, 0.0, 4.0, 6.0, 0.0, 4.0, 6.0, 0.0, 4.0, 6.0, 0.0, 4.0, 6.0, 0.0, 4.0, 6.0, 0.0, 4.0, 6.0, 0.0, 4.0, 6.0, 0.0, 4.0, 6.0, 0.0, 4.0, 6.0, 0.0, 4.0, 6.0, 0.0, 4.0, 6.0, 0.0, 4.0, 6.0, 0.0, 4.0, 6.0, 0.0, 4.0, 6.0, 0.0, 4.0, 6.0, 0.0, 4.0, 6.0, 0.0, 4.0, 6.0, 0.0, 4.0, 6.0, 0.0, 4.0, 6.0, 0.0, 4.0, 6.0, 0.0, 4.0, 6.0, 0.0, 4.0, 6.0, 0.0, 4.0, 6.0, 0.0, 4.0, 6.0, 0.0, 4.0, 6.0, 0.0, 4.0, 6.0, 0.0, 4.0, 6.0, 0.0, 4.0, 6.0, 0.0, 4.0, 6.0, 0.0, 4.0, 6.0, 0.0, 4.0, 6.0, 0.0, 4.0, 6.0, 0.0, 4.0, 6.0, 0.0, 4.0, 6.0, 0.0, 4.0, 6.0, 0.0, 4.0, 6.0, 0.0, 4.0, 6.0, 0.0, 4.0, 6.0, 0.0, 4.0, 6.0, 0.0, 4.0, 6.0, 0.0, 4.0, 6.0, 0.0, 4.0, 6.0, 0.0, 4.0, 6.0, 0.0, 4.0, 6.0, 0.0, 4.0, 6.0, 0.0, 4.0, 6.0, 0.0, 4.0, 6.0, 0.0, 4.0, 6.0, 0.0, 4.0, 6.0, 0.0, 4.0, 6.0, 0.0, 4.0, 6.0, 0.0, 4.0, 6.0, 0.0, 4.0, 6.0, 0.0, 4.0, 6.0, 0.0, 4.0, 6.0, 0.0, 4.0, 6.0, 0.0, 4.0, 6.0, 0.0, 4.0, 6.0, 0.0, 4.0, 6.0, 0.0, 4.0, 6.0, 0.0, 4.0, 6.0, 0.0, 4.0, 6.0, 0.0, 4.0, 6.0, 0.0, 4.0, 6.0, 0.0, 4.0, 6.0, 0.0, 4.0, 6.0, 0.0, 4.0, 6.0, 0.0, 4.0, 6.0, 0.0, 4.0, 6.0, 0.0, 4.0, 6.0, 0.0, 4.0, 6.0, 0.0, 4.0, 6.0, 0.0, 4.0, 6.0, 0.0, 4.0, 6.0, 0.0, 4.0, 6.0, 0.0, 4.0, 6.0, 0.0, 4.0, 6.0, 0.0, 4.0, 6.0, 0.0, 4.0, 6.0, 0.0, 4.0, 6.0, 0.0, 4.0, 6.0, 0.0, 4.0, 6.0, 0.0, 4.0, 6.0, 0.0, 4.0, 6.0, 0.0, 4.0, 6.0, 0.0, 4.0, 6.0, 0.0, 4.0, 6.0, 0.0, 4.0, 6.0, 0.0, 4.0, 6.0, 0.0, 4.0, 6.0, 0.0, 4.0, 6.0, 0.0, 4.0, 6.0, 0.0, 4.0, 6.0, 0.0, 4.0, 6.0, 0.0, 4.0, 6.0, 0.0, 4.0, 6.0, 0.0, 4.0, 6.0, 0.0, 4.0, 6.0, 0.0, 4.0, 6.0, 0.0, 4.0, 6.0, 0.0, 4.0, 6.0, 0.0, 4.0, 6.0, 0.0, 4.0, 6.0, 0.0, 4.0, 6.0, 0.0, 4.0, 6.0, 0.0, 4.0, 6.0, 0.0, 4.0, 6.0, 0.0, 4.0, 6.0, 0.0, 4.0, 6.0, 0.0, 4.0, 6.0, 0.0, 4.0, 6.0, 0.0, 4.0, 6.0, 0.0, 4.0, 6.0, 0.0, 4.0, 6.0, 0.0, 4.0, 6.0, 0.0, 4.0, 6.0, 0.0, 4.0, 6.0, 0.0, 4.0, 6.0, 0.0, 4.0, 6.0, 0.0, 4.0, 6.0, 0.0, 4.0, 6.0, 0.0, 4.0, 6.0, 0.0, 4.0, 6.0, 0.0, 4.0, 6.0, 0.0, 4.0, 6.0, 0.0, 4.0, 6.0, 0.0, 4.0, 6.0, 0.0, 4.0, 6.0, 0.0, 4.0, 6.0, 0.0, 4.0, 6.0, 0.0, 4.0, 6.0, 0.0, 4.0, 6.0, 0.0, 4.0, 6.0, 0.0, 4.0, 6.0, 0.0, 4.0, 6.0, 0.0, 4.0, 6.0, 0.0, 4.0, 6.0, 0.0, 4.0, 6.0, 0.0, 4.0, 6.0, 0.0, 4.0, 6.0, 0.0, 4.0, 6.0, 0.0, 4.0, 6.0, 0.0, 4.0, 6.0, 0.0, 4.0, 6.0, 0.0, 4.0, 6.0, 0.0, 4.0, 6.0, 0.0, 4.0, 6.0, 0.0, 4.0, 6.0, 0.0, 4.0, 6.0, 0.0, 4.0, 6.0, 0.0, 4.0, 6.0, 0.0, 4.0, 6.0, 0.0, 4.0, 6.0, 0.0, 4.0, 6.0, 0.0, 4.0, 6.0, 0.0, 4.0, 6.0, 0.0, 4.0, 6.0, 0.0, 4.0, 6.0, 0.0, 4.0, 6.0, 0.0, 4.0, 6.0, 0.0, 4.0, 6.0, 0.0, 4.0, 6.0, 0.0, 4.0, 6.0, 0.0, 4.0, 6.0, 0.0, 4.0, 6.0, 0.0, 4.0, 6.0, 0.0, 4.0, 6.0, 0.0, 4.0, 6.0, 0.0, 4.0, 6.0, 0.0, 4.0, 6.0, 0.0, 4.0, 6.0, 0.0, 4.0, 6.0, 0.0, 4.0, 6.0, 0.0, 4.0, 6.0, 0.0, 4.0, 6.0, 0.0, 4.0, 6.0, 0.0, 4.0, 6.0, 0.0, 4.0, 6.0, 0.0, 4.0, 6.0, 0.0, 4.0, 6.0, 0.0, 4.0, 6.0, 0.0, 4.0, 6.0, 0.0, 4.0, 6.0, 0.0, 4.0, 6.0, 0.0, 4.0, 6.0, 0.0, 4.0, 6.0, 0.0, 4.0, 6.0, 0.0, 4.0, 6.0, 0.0, 4.0, 6.0, 0.0, 4.0, 6.0, 0.0, 4.0, 6.0, 0.0, 4.0, 6.0, 0.0, 4.0, 6.0, 0.0, 4.0, 6.0, 0.0, 4.0, 6.0, 0.0, 4.0, 6.0, 0.0, 4.0, 6.0, 0.0, 4.0, 6.0, 0.0, 4.0, 6.0, 0.0, 4.0, 6.0, 0.0, 4.0, 6.0, 0.0, 4.0, 6.0, 0.0, 4.0, 6.0, 0.0, 4.0, 6.0, 0.0, 4.0, 6.0, 0.0, 4.0, 6.0, 0.0, 4.0, 6.0, 0.0, 4.0, 6.0, 0.0, 4.0, 6.0, 0.0, 4.0, 6.0, 0.0, 4.0, 6.0, 0.0, 4.0, 6.0, 0.0, 4.0, 6.0, 0.0, 4.0, 6.0, 0.0, 4.0, 6.0, 0.0, 4.0, 6.0, 0.0, 4.0, 6.0, 0.0, 4.0, 6.0, 0.0, 4.0, 6.0, 0.0, 4.0, 6.0, 0.0, 4.0, 6.0, 0.0, 4.0, 6.0, 0.0, 4.0, 6.0, 0.0, 4.0, 6.0, 0.0, 4.0, 6.0, 0.0, 4.0, 6.0, 0.0, 4.0, 6.0, 0.0, 4.0, 6.0, 0.0, 4.0, 6.0, 0.0, 4.0, 6.0, 0.0, 4.0, 6.0, 0.0, 4.0, 6.0, 0.0, 4.0, 6.0, 0.0, 4.0, 6.0, 0.0, 4.0, 6.0, 0.0, 4.0, 6.0, 0.0, 4.0, 6.0, 0.0, 4.0, 6.0, 0.0, 4.0, 6.0, 0.0, 4.0, 6.0, 0.0, 4.0, 6.0, 0.0, 4.0, 6.0, 0.0, 4.0, 6.0, 0.0, 4.0, 6.0, 0.0, 4.0, 6.0, 0.0, 4.0, 6.0, 0.0, 4.0, 6.0, 0.0, 4.0, 6.0, 0.0, 4.0, 6.0, 0.0, 4.0, 6.0, 0.0, 4.0, 6.0, 0.0, 4.0, 6.0, 0.0, 4.0, 6.0, 0.0, 4.0, 6.0, 0.0, 4.0, 6.0, 0.0, 4.0, 6.0, 0.0, 4.0, 6.0, 0.0, 4.0, 6.0, 0.0, 4.0, 6.0, 0.0, 4.0, 6.0, 0.0, 4.0, 6.0, 0.0, 4.0, 6.0, 0.0, 4.0, 6.0, 0.0, 4.0, 6.0, 0.0, 4.0, 6.0, 0.0, 4.0, 6.0, 0.0, 4.0, 6.0, 0.0, 4.0, 6.0, 0.0, 4.0, 6.0, 0.0, 4.0, 6.0, 0.0, 4.0, 6.0, 0.0, 4.0, 6.0, 0.0, 4.0, 6.0, 0.0, 4.0, 6.0, 0.0, 4.0, 6.0, 0.0, 4.0, 6.0, 0.0, 4.0, 6.0, 0.0, 4.0, 6.0, 0.0, 4.0, 6.0, 0.0, 4.0, 6.0, 0.0, 4.0, 6.0, 0.0, 4.0, 6.0, 0.0, 4.0, 6.0, 0.0, 4.0, 6.0, 0.0, 4.0, 6.0, 0.0, 4.0, 6.0, 0.0, 4.0, 6.0, 0.0, 4.0, 6.0, 0.0, 4.0, 6.0, 0.0, 4.0, 6.0, 0.0, 4.0, 6.0, 0.0, 4.0, 6.0, 0.0, 4.0, 6.0, 0.0, 4.0, 6.0, 0.0, 4.0, 6.0, 0.0, 4.0, 6.0, 0.0, 4.0, 6.0, 0.0, 4.0, 6.0, 0.0, 4.0, 6.0, 0.0, 4.0, 6.0, 0.0, 4.0, 6.0, 0.0, 4.0, 6.0, 0.0, 4.0, 6.0, 0.0, 4.0, 6.0, 0.0, 4.0, 6.0, 0.0, 4.0, 6.0, 0.0, 4.0, 6.0, 0.0, 4.0, 6.0, 0.0, 4.0, 6.0, 0.0, 4.0, 6.0, 0.0, 4.0, 6.0, 0.0, 4.0, 6.0, 0.0, 4.0, 6.0, 0.0, 4.0, 6.0, 0.0, 4.0, 6.0, 0.0, 4.0, 6.0, 0.0, 4.0, 6.0, 0.0, 4.0, 6.0, 0.0, 4.0, 6.0, 0.0, 4.0, 6.0, 0.0, 4.0, 6.0, 0.0, 4.0, 6.0, 0.0, 4.0, 6.0, 0.0, 4.0, 6.0, 0.0, 4.0, 6.0, 0.0, 4.0, 6.0, 0.0, 4.0, 6.0, 0.0, 4.0, 6.0, 0.0, 4.0, 6.0, 0.0, 4.0, 6.0, 0.0, 4.0, 6.0, 0.0, 4.0, 6.0, 0.0, 4.0, 6.0, 0.0, 4.0, 6.0, 0.0, 4.0, 6.0, 0.0, 4.0, 6.0, 0.0, 4.0, 6.0, 0.0, 4.0, 6.0, 0.0, 4.0, 6.0, 0.0, 4.0, 6.0, 0.0, 4.0, 6.0, 0.0, 4.0, 6.0, 0.0, 4.0, 6.0, 0.0, 4.0, 6.0, 0.0, 4.0, 6.0, 0.0, 4.0, 6.0, 0.0, 4.0, 6.0, 0.0, 4.0, 6.0, 0.0, 4.0, 6.0, 0.0, 4.0, 6.0, 0.0, 4.0, 6.0, 0.0, 4.0, 6.0, 0.0, 4.0, 6.0, 0.0, 4.0, 6.0, 0.0, 4.0, 6.0, 0.0, 4.0, 6.0, 0.0, 4.0, 6.0, 0.0, 4.0, 6.0, 0.0, 4.0, 6.0, 0.0, 4.0, 6.0, 0.0, 4.0, 6.0, 0.0, 4.0, 6.0, 0.0, 4.0, 6.0, 0.0, 4.0, 6.0, 0.0, 4.0, 6.0, 0.0, 4.0, 6.0, 0.0, 4.0, 6.0, 0.0, 4.0, 6.0, 0.0, 4.0, 6.0, 0.0, 4.0, 6.0, 0.0, 4.0, 6.0, 0.0, 4.0, 6.0, 0.0, 4.0, 6.0, 0.0, 4.0, 6.0, 0.0, 4.0, 6.0, 0.0, 4.0, 6.0, 0.0, 4.0, 6.0, 0.0, 4.0, 6.0, 0.0, 4.0, 6.0, 0.0, 4.0, 6.0, 0.0, 4.0, 6.0, 0.0, 4.0, 6.0, 0.0, 4.0, 6.0, 0.0, 4.0, 6.0, 0.0, 4.0, 6.0, 0.0, 4.0, 6.0, 0.0, 4.0, 6.0, 0.0, 4.0, 6.0, 0.0, 4.0, 6.0, 0.0, 4.0, 6.0, 0.0, 4.0, 6.0, 0.0, 4.0, 6.0, 0.0, 4.0, 6.0, 0.0, 4.0, 6.0, 0.0, 4.0, 6.0, 0.0, 4.0, 6.0, 0.0, 4.0, 6.0, 0.0, 4.0, 6.0, 0.0, 4.0, 6.0, 0.0, 4.0, 6.0, 0.0, 4.0, 6.0, 0.0, 4.0, 6.0, 0.0, 4.0, 6.0, 0.0, 4.0, 6.0, 0.0, 4.0, 6.0, 0.0, 4.0, 6.0, 0.0, 4.0, 6.0, 0.0, 4.0, 6.0, 0.0, 4.0, 6.0, 0.0, 4.0, 6.0, 0.0, 4.0, 6.0, 0.0, 4.0, 6.0, 0.0, 4.0, 6.0, 0.0, 4.0, 6.0, 0.0, 4.0, 6.0, 0.0, 4.0, 6.0, 0.0, 4.0, 6.0, 0.0, 4.0, 6.0, 0.0, 4.0, 6.0, 0.0, 4.0, 6.0, 0.0, 4.0, 6.0, 0.0, 4.0, 6.0, 0.0, 4.0, 6.0, 0.0, 4.0, 6.0, 0.0, 4.0, 6.0, 0.0, 4.0, 6.0, 0.0, 4.0, 6.0, 0.0, 4.0, 6.0, 0.0, 4.0, 6.0, 0.0, 4.0, 6.0, 0.0, 4.0, 6.0, 0.0, 4.0, 6.0, 0.0, 4.0, 6.0, 0.0, 4.0, 6.0, 0.0, 4.0, 6.0, 0.0, 4.0, 6.0, 0.0, 4.0, 6.0, 0.0, 4.0, 6.0, 0.0, 4.0, 6.0, 0.0, 4.0, 6.0, 0.0, 4.0, 6.0, 0.0, 4.0, 6.0, 0.0, 4.0, 6.0, 0.0, 4.0, 6.0, 0.0, 4.0, 6.0, 0.0, 4.0, 6.0, 0.0, 4.0, 6.0, 0.0, 4.0, 6.0, 0.0, 4.0, 6.0, 0.0, 4.0, 6.0, 0.0, 4.0, 6.0, 0.0, 4.0, 6.0, 0.0, 4.0, 6.0, 0.0, 4.0, 6.0, 0.0, 4.0, 6.0, 0.0, 4.0, 6.0, 0.0, 4.0, 6.0, 0.0, 4.0, 6.0, 0.0, 4.0, 6.0, 0.0, 4.0, 6.0, 0.0, 4.0, 6.0, 0.0, 4.0, 6.0, 0.0, 4.0, 6.0, 0.0, 4.0, 6.0, 0.0, 4.0, 6.0, 0.0, 4.0, 6.0, 0.0, 4.0, 6.0, 0.0, 4.0, 6.0, 0.0, 4.0, 6.0, 0.0, 4.0, 6.0, 0.0, 4.0, 6.0, 0.0, 4.0, 6.0, 0.0, 4.0, 6.0, 0.0, 4.0, 6.0, 0.0, 4.0, 6.0, 0.0, 4.0, 6.0, 0.0, 4.0, 6.0, 0.0, 4.0, 6.0, 0.0, 4.0, 6.0, 0.0, 4.0, 6.0, 0.0, 4.0, 6.0, 0.0, 4.0, 6.0, 0.0, 4.0, 6.0, 0.0, 4.0, 6.0, 0.0, 4.0, 6.0, 0.0, 4.0, 6.0, 0.0, 4.0, 6.0, 0.0, 4.0, 6.0, 0.0, 4.0, 6.0, 0.0, 4.0, 6.0, 0.0, 4.0, 6.0, 0.0, 4.0, 6.0, 0.0, 4.0, 6.0, 0.0, 4.0, 6.0, 0.0, 4.0, 6.0, 0.0, 4.0, 6.0, 0.0, 4.0, 6.0, 0.0, 4.0, 6.0, 0.0, 4.0, 6.0, 0.0, 4.0, 6.0, 0.0, 4.0, 6.0, 0.0, 4.0, 6.0, 0.0, 4.0, 6.0, 0.0, 4.0, 6.0, 0.0, 4.0, 6.0, 0.0, 4.0, 6.0, 0.0, 4.0, 6.0, 0.0, 4.0, 6.0, 0.0, 4.0, 6.0, 0.0, 4.0, 6.0, 0.0, 4.0, 6.0, 0.0, 4.0, 6.0, 0.0, 4.0, 6.0, 0.0, 4.0, 6.0, 0.0, 4.0, 6.0, 0.0, 4.0, 6.0, 0.0, 4.0, 6.0, 0.0, 4.0, 6.0, 0.0, 4.0, 6.0, 0.0, 4.0, 6.0, 0.0, 4.0, 6.0, 0.0, 4.0, 6.0, 0.0, 4.0, 6.0, 0.0, 4.0, 6.0, 0.0, 4.0, 6.0, 0.0, 4.0, 6.0, 0.0, 4.0, 6.0, 0.0, 4.0, 6.0, 0.0, 4.0, 6.0, 0.0, 4.0, 6.0, 0.0, 4.0, 6.0, 0.0, 4.0, 6.0, 0.0, 4.0, 6.0, 0.0, 4.0, 6.0, 0.0, 4.0, 6.0, 0.0, 4.0, 6.0, 0.0, 4.0, 6.0, 0.0, 4.0, 6.0, 0.0, 4.0, 6.0, 0.0, 4.0, 6.0, 0.0, 4.0, 6.0, 0.0, 4.0, 6.0, 0.0, 4.0, 6.0, 0.0, 4.0, 6.0, 0.0, 4.0, 6.0, 0.0, 4.0, 6.0, 0.0, 4.0, 6.0, 0.0, 4.0, 6.0, 0.0, 4.0, 6.0, 0.0, 4.0, 6.0, 0.0, 4.0, 6.0, 0.0, 4.0, 6.0, 0.0, 4.0, 6.0, 0.0, 4.0, 6.0, 0.0, 4.0, 6.0, 0.0, 4.0, 6.0, 0.0, 4.0, 6.0, 0.0, 4.0, 6.0, 0.0, 4.0, 6.0, 0.0, 4.0, 6.0, 0.0, 4.0, 6.0, 0.0, 4.0, 6.0, 0.0, 4.0, 6.0, 0.0, 4.0, 6.0, 0.0, 4.0, 6.0, 0.0, 4.0, 6.0, 0.0, 4.0, 6.0, 0.0, 4.0, 6.0, 0.0, 4.0, 6.0, 0.0, 4.0, 6.0, 0.0, 4.0, 6.0, 0.0, 4.0, 6.0, 0.0, 4.0, 6.0, 0.0, 4.0, 6.0, 0.0, 4.0, 6.0, 0.0, 4.0, 6.0, 0.0, 4.0, 6.0, 0.0, 4.0, 6.0, 0.0, 4.0, 6.0, 0.0, 4.0, 6.0, 0.0, 4.0, 6.0, 0.0, 4.0, 6.0, 0.0, 4.0, 6.0, 0.0, 4.0, 6.0, 0.0, 4.0, 6.0, 0.0, 4.0, 6.0, 0.0, 4.0, 6.0, 0.0, 4.0, 6.0, 0.0, 4.0, 6.0, 0.0, 4.0, 6.0, 0.0, 4.0, 6.0, 0.0, 4.0, 6.0, 0.0, 4.0, 6.0, 0.0, 4.0, 6.0, 0.0, 4.0, 6.0, 0.0, 4.0, 6.0, 0.0, 4.0, 6.0, 0.0, 4.0, 6.0, 0.0, 4.0, 6.0, 0.0, 4.0, 6.0, 0.0, 4.0, 6.0, 0.0, 4.0, 6.0, 0.0, 4.0, 6.0, 0.0, 4.0, 6.0, 0.0, 4.0, 6.0, 0.0, 4.0, 6.0, 0.0, 4.0, 6.0, 0.0, 4.0, 6.0, 0.0, 4.0, 6.0, 0.0, 4.0, 6.0, 0.0, 4.0, 6.0, 0.0, 4.0, 6.0, 0.0, 4.0, 6.0, 0.0, 4.0, 6.0, 0.0, 4.0, 6.0, 0.0, 4.0, 6.0, 0.0, 4.0, 6.0, 0.0, 4.0, 6.0, 0.0, 4.0, 6.0, 0.0, 4.0, 6.0, 0.0, 4.0, 6.0, 0.0, 4.0, 6.0, 0.0, 4.0, 6.0, 0.0, 4.0, 6.0, 0.0, 4.0, 6.0, 0.0, 4.0, 6.0, 0.0, 4.0, 6.0, 0.0, 4.0, 6.0, 0.0, 4.0, 6.0, 0.0, 4.0, 6.0, 0.0, 4.0, 6.0, 0.0, 4.0, 6.0, 0.0, 4.0, 6.0, 0.0, 4.0, 6.0, 0.0, 4.0, 6.0, 0.0, 4.0, 6.0, 0.0, 4.0, 6.0, 0.0, 4.0, 6.0, 0.0, 4.0, 6.0, 0.0, 4.0, 6.0, 0.0, 4.0, 6.0, 0.0, 4.0, 6.0, 0.0, 4.0, 6.0, 0.0, 4.0, 6.0, 0.0, 4.0, 6.0, 0.0, 4.0, 6.0, 0.0, 4.0, 6.0, 0.0, 4.0, 6.0, 0.0, 4.0, 6.0, 0.0, 4.0, 6.0, 0.0, 4.0, 6.0, 0.0, 4.0, 6.0, 0.0, 4.0, 6.0, 0.0, 4.0, 6.0, 0.0, 4.0, 6.0, 0.0, 4.0, 6.0, 0.0, 4.0, 6.0, 0.0, 4.0, 6.0, 0.0, 4.0, 6.0, 0.0, 4.0, 6.0, 0.0, 4.0, 6.0, 0.0, 4.0, 6.0, 0.0, 4.0, 6.0, 0.0, 4.0, 6.0, 0.0, 4.0, 6.0, 0.0, 4.0, 6.0, 0.0, 4.0, 6.0, 0.0, 4.0, 6.0, 0.0, 4.0, 6.0, 0.0, 4.0, 6.0, 0.0, 4.0, 6.0, 0.0, 4.0, 6.0, 0.0, 4.0, 6.0, 0.0, 4.0, 6.0, 0.0, 4.0, 6.0, 0.0, 4.0, 6.0, 0.0, 4.0, 6.0, 0.0, 4.0, 6.0, 0.0, 4.0, 6.0, 0.0, 4.0, 6.0, 0.0, 4.0, 6.0, 0.0, 4.0, 6.0, 0.0, 4.0, 6.0, 0.0, 4.0, 6.0, 0.0, 4.0, 6.0, 0.0, 4.0, 6.0, 0.0, 4.0, 6.0, 0.0, 4.0, 6.0, 0.0, 4.0, 6.0, 0.0, 4.0, 6.0, 0.0, 4.0, 6.0, 0.0, 4.0, 6.0, 0.0, 4.0, 6.0, 0.0, 4.0, 6.0, 0.0, 4.0, 6.0, 0.0, 4.0, 6.0, 0.0, 4.0, 6.0, 0.0, 4.0, 6.0, 0.0, 4.0, 6.0, 0.0, 4.0, 6.0, 0.0, 4.0, 6.0, 0.0, 4.0, 6.0, 0.0, 4.0, 6.0, 0.0, 4.0, 6.0, 0.0, 4.0, 6.0, 0.0, 4.0, 6.0, 0.0, 4.0, 6.0, 0.0, 4.0, 6.0, 0.0, 4.0, 6.0, 0.0, 4.0, 6.0, 0.0, 4.0, 6.0, 0.0, 4.0, 6.0, 0.0, 4.0, 6.0, 0.0, 4.0, 6.0, 0.0, 4.0, 6.0, 0.0, 4.0, 6.0, 0.0, 4.0, 6.0, 0.0, 4.0, 6.0, 0.0, 4.0, 6.0, 0.0, 4.0, 6.0, 0.0, 4.0, 6.0, 0.0, 4.0, 6.0, 0.0, 4.0, 6.0, 0.0, 4.0, 6.0, 0.0, 4.0, 6.0, 0.0, 4.0, 6.0, 0.0, 4.0, 6.0, 0.0, 4.0, 6.0, 0.0, 4.0, 6.0, 0.0, 4.0, 6.0, 0.0, 4.0, 6.0, 0.0, 4.0, 6.0, 0.0, 4.0, 6.0, 0.0, 4.0, 6.0, 0.0, 4.0, 6.0, 0.0, 4.0, 6.0, 0.0, 4.0, 6.0, 0.0, 4.0, 6.0, 0.0, 4.0, 6.0, 0.0, 4.0, 6.0, 0.0, 4.0, 6.0, 0.0, 4.0, 6.0, 0.0, 4.0, 6.0, 0.0, 4.0, 6.0, 0.0, 4.0, 6.0, 0.0, 4.0, 6.0, 0.0, 4.0, 6.0, 0.0, 4.0, 6.0, 0.0, 4.0, 6.0, 0.0, 4.0, 6.0, 0.0, 4.0, 6.0, 0.0, 4.0, 6.0, 0.0, 4.0, 6.0, 0.0, 4.0, 6.0, 0.0, 4.0, 6.0, 0.0, 4.0, 6.0, 0.0, 4.0, 6.0, 0.0, 4.0, 6.0, 0.0, 4.0, 6.0, 0.0, 4.0, 6.0, 0.0, 4.0, 6.0, 0.0, 4.0, 6.0, 0.0, 4.0, 6.0, 0.0, 4.0, 6.0, 0.0, 4.0, 6.0, 0.0, 4.0, 6.0, 0.0, 4.0, 6.0, 0.0, 4.0, 6.0, 0.0, 4.0, 6.0, 0.0, 4.0, 6.0, 0.0, 4.0, 6.0, 0.0, 4.0, 6.0, 0.0, 4.0, 6.0, 0.0, 4.0, 6.0, 0.0, 4.0, 6.0, 0.0, 4.0, 6.0, 0.0, 4.0, 6.0, 0.0, 4.0, 6.0, 0.0, 4.0, 6.0, 0.0, 4.0, 6.0, 0.0, 4.0, 6.0, 0.0, 4.0, 6.0, 0.0, 4.0, 6.0, 0.0, 4.0, 6.0, 0.0, 4.0, 6.0, 0.0, 4.0, 6.0, 0.0, 4.0, 6.0, 0.0, 4.0, 6.0, 0.0, 4.0, 6.0, 0.0, 4.0, 6.0, 0.0, 4.0, 6.0, 0.0, 4.0, 6.0, 0.0, 4.0, 6.0, 0.0, 4.0, 6.0, 0.0, 4.0, 6.0, 0.0, 4.0, 6.0, 0.0, 4.0, 6.0, 0.0, 4.0, 6.0, 0.0, 4.0, 6.0, 0.0, 4.0, 6.0, 0.0, 4.0, 6.0, 0.0, 4.0, 6.0, 0.0, 4.0, 6.0, 0.0, 4.0, 6.0, 0.0, 4.0, 6.0, 0.0, 4.0, 6.0, 0.0, 4.0, 6.0, 0.0, 4.0, 6.0, 0.0, 4.0, 6.0, 0.0, 4.0, 6.0, 0.0, 4.0, 6.0, 0.0, 4.0, 6.0, 0.0, 4.0, 6.0, 0.0, 4.0, 6.0, 0.0, 4.0, 6.0, 0.0, 4.0, 6.0, 0.0, 4.0, 6.0, 0.0, 4.0, 6.0, 0.0, 4.0, 6.0, 0.0, 4.0, 6.0, 0.0, 4.0, 6.0, 0.0, 4.0, 6.0])"
      ]
     },
     "metadata": {},
     "execution_count": 267
    }
   ],
   "source": [
    "arr "
   ]
  },
  {
   "cell_type": "code",
   "execution_count": null,
   "metadata": {},
   "outputs": [],
   "source": []
  }
 ]
}